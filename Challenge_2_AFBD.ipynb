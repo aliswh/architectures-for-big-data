{
  "nbformat": 4,
  "nbformat_minor": 0,
  "metadata": {
    "colab": {
      "name": "Challenge-2_AFBD.ipynb",
      "provenance": [],
      "collapsed_sections": [
        "AuMNWouAx6u1",
        "ugXeuovGUbFe",
        "BFKWHAn5kR5o",
        "ckFGLY08KC_P",
        "6nHUJ0tLN3nH"
      ]
    },
    "kernelspec": {
      "display_name": "Python 3",
      "name": "python3"
    },
    "language_info": {
      "name": "python"
    }
  },
  "cells": [
    {
      "cell_type": "markdown",
      "metadata": {
        "id": "Uc1D5cUyIsmd"
      },
      "source": [
        "Students: Alice Schiavone, KidaraLOL"
      ]
    },
    {
      "cell_type": "markdown",
      "metadata": {
        "id": "AuMNWouAx6u1"
      },
      "source": [
        "# Env Set up"
      ]
    },
    {
      "cell_type": "code",
      "metadata": {
        "colab": {
          "base_uri": "https://localhost:8080/"
        },
        "id": "IFH9zQGdta1S",
        "outputId": "2f2d41ee-4fcf-457a-fbe1-2a21000ab921"
      },
      "source": [
        "!apt-get install openjdk-8-jdk-headless -qq > /dev/null\n",
        "!pip install pyspark\n",
        "!pip install -q findspark\n",
        "!pip show pyspark\n",
        "!pip install memory_profiler\n",
        "%load_ext memory_profiler"
      ],
      "execution_count": 1,
      "outputs": [
        {
          "output_type": "stream",
          "name": "stdout",
          "text": [
            "Collecting pyspark\n",
            "  Downloading pyspark-3.2.0.tar.gz (281.3 MB)\n",
            "\u001b[K     |████████████████████████████████| 281.3 MB 36 kB/s \n",
            "\u001b[?25hCollecting py4j==0.10.9.2\n",
            "  Downloading py4j-0.10.9.2-py2.py3-none-any.whl (198 kB)\n",
            "\u001b[K     |████████████████████████████████| 198 kB 60.9 MB/s \n",
            "\u001b[?25hBuilding wheels for collected packages: pyspark\n",
            "  Building wheel for pyspark (setup.py) ... \u001b[?25l\u001b[?25hdone\n",
            "  Created wheel for pyspark: filename=pyspark-3.2.0-py2.py3-none-any.whl size=281805912 sha256=8f290b02f4c249afd745dd80d5005123301c2fe096d89c143f092f3471671739\n",
            "  Stored in directory: /root/.cache/pip/wheels/0b/de/d2/9be5d59d7331c6c2a7c1b6d1a4f463ce107332b1ecd4e80718\n",
            "Successfully built pyspark\n",
            "Installing collected packages: py4j, pyspark\n",
            "Successfully installed py4j-0.10.9.2 pyspark-3.2.0\n",
            "Name: pyspark\n",
            "Version: 3.2.0\n",
            "Summary: Apache Spark Python API\n",
            "Home-page: https://github.com/apache/spark/tree/master/python\n",
            "Author: Spark Developers\n",
            "Author-email: dev@spark.apache.org\n",
            "License: http://www.apache.org/licenses/LICENSE-2.0\n",
            "Location: /usr/local/lib/python3.7/dist-packages\n",
            "Requires: py4j\n",
            "Required-by: \n",
            "Collecting memory_profiler\n",
            "  Downloading memory_profiler-0.58.0.tar.gz (36 kB)\n",
            "Requirement already satisfied: psutil in /usr/local/lib/python3.7/dist-packages (from memory_profiler) (5.4.8)\n",
            "Building wheels for collected packages: memory-profiler\n",
            "  Building wheel for memory-profiler (setup.py) ... \u001b[?25l\u001b[?25hdone\n",
            "  Created wheel for memory-profiler: filename=memory_profiler-0.58.0-py3-none-any.whl size=30190 sha256=fe37f81d4c8671e493fb98468c0ffc886054f95f70020342b60642fe635c9b05\n",
            "  Stored in directory: /root/.cache/pip/wheels/56/19/d5/8cad06661aec65a04a0d6785b1a5ad035cb645b1772a4a0882\n",
            "Successfully built memory-profiler\n",
            "Installing collected packages: memory-profiler\n",
            "Successfully installed memory-profiler-0.58.0\n"
          ]
        }
      ]
    },
    {
      "cell_type": "code",
      "metadata": {
        "colab": {
          "base_uri": "https://localhost:8080/",
          "height": 0
        },
        "id": "uC4UOqUPthsv",
        "outputId": "45210f18-1edf-4bd1-ecf8-0a73e31eb13b"
      },
      "source": [
        "import os\n",
        "os.environ[\"JAVA_HOME\"] = \"/usr/lib/jvm/java-8-openjdk-amd64\"\n",
        "os.environ[\"SPARK_HOME\"] = \"/usr/local/lib/python3.7/dist-packages/pyspark\"\n",
        "\n",
        "import pyspark\n",
        "sc = pyspark.SparkContext(\"local[*]\").getOrCreate()\n",
        "sc"
      ],
      "execution_count": 2,
      "outputs": [
        {
          "output_type": "execute_result",
          "data": {
            "text/html": [
              "\n",
              "        <div>\n",
              "            <p><b>SparkContext</b></p>\n",
              "\n",
              "            <p><a href=\"http://474e13eeeaaa:4040\">Spark UI</a></p>\n",
              "\n",
              "            <dl>\n",
              "              <dt>Version</dt>\n",
              "                <dd><code>v3.2.0</code></dd>\n",
              "              <dt>Master</dt>\n",
              "                <dd><code>local[*]</code></dd>\n",
              "              <dt>AppName</dt>\n",
              "                <dd><code>pyspark-shell</code></dd>\n",
              "            </dl>\n",
              "        </div>\n",
              "        "
            ],
            "text/plain": [
              "<SparkContext master=local[*] appName=pyspark-shell>"
            ]
          },
          "metadata": {},
          "execution_count": 2
        }
      ]
    },
    {
      "cell_type": "code",
      "metadata": {
        "id": "Ez3Ct5xrAvFV"
      },
      "source": [
        "import findspark\n",
        "findspark.init()"
      ],
      "execution_count": 3,
      "outputs": []
    },
    {
      "cell_type": "markdown",
      "metadata": {
        "id": "ugXeuovGUbFe"
      },
      "source": [
        "# Text Choice and Pre-processing\n",
        "I will compute the similarities between [Shakespeare comedies](http://shakespeare.mit.edu/). \n",
        "\n",
        "\n",
        "\n"
      ]
    },
    {
      "cell_type": "code",
      "metadata": {
        "colab": {
          "base_uri": "https://localhost:8080/"
        },
        "id": "NGZhmvqNVqg0",
        "outputId": "ccb8e515-2528-4aee-e3e8-8cb1b1316254"
      },
      "source": [
        "!wget https://github.com/aliswh/architectures-for-big-data/raw/main/data/comedies.zip\n",
        "!mkdir /content/comedies\n",
        "!unzip /content/comedies.zip -d /content/comedies"
      ],
      "execution_count": 4,
      "outputs": [
        {
          "output_type": "stream",
          "name": "stdout",
          "text": [
            "--2021-11-19 18:28:34--  https://github.com/aliswh/architectures-for-big-data/raw/main/data/comedies.zip\n",
            "Resolving github.com (github.com)... 13.114.40.48\n",
            "Connecting to github.com (github.com)|13.114.40.48|:443... connected.\n",
            "HTTP request sent, awaiting response... 302 Found\n",
            "Location: https://raw.githubusercontent.com/aliswh/architectures-for-big-data/main/data/comedies.zip [following]\n",
            "--2021-11-19 18:28:35--  https://raw.githubusercontent.com/aliswh/architectures-for-big-data/main/data/comedies.zip\n",
            "Resolving raw.githubusercontent.com (raw.githubusercontent.com)... 185.199.108.133, 185.199.109.133, 185.199.110.133, ...\n",
            "Connecting to raw.githubusercontent.com (raw.githubusercontent.com)|185.199.108.133|:443... connected.\n",
            "HTTP request sent, awaiting response... 200 OK\n",
            "Length: 2509186 (2.4M) [application/zip]\n",
            "Saving to: ‘comedies.zip’\n",
            "\n",
            "comedies.zip        100%[===================>]   2.39M  --.-KB/s    in 0.08s   \n",
            "\n",
            "2021-11-19 18:28:36 (30.1 MB/s) - ‘comedies.zip’ saved [2509186/2509186]\n",
            "\n",
            "Archive:  /content/comedies.zip\n",
            " extracting: /content/comedies/A Midsummer-Night's Dream.txt  \n",
            " extracting: /content/comedies/All's Well That Ends Well.txt  \n",
            " extracting: /content/comedies/As You Like It.txt  \n",
            " extracting: /content/comedies/Cymbeline.txt  \n",
            " extracting: /content/comedies/Love's Labour's Lost.txt  \n",
            " extracting: /content/comedies/Measure for Measure.txt  \n",
            " extracting: /content/comedies/Much Ado about Nothing.txt  \n",
            " extracting: /content/comedies/Pericles, Prince of Tyre.txt  \n",
            " extracting: /content/comedies/The Comedy of Errors.txt  \n",
            " extracting: /content/comedies/The Merchant of Venice.txt  \n",
            " extracting: /content/comedies/The Merry Wives of Windsor.txt  \n",
            " extracting: /content/comedies/The Taming of the Shrew.txt  \n",
            " extracting: /content/comedies/The Tempest.txt  \n",
            " extracting: /content/comedies/The Two Gentlemen of Verona.txt  \n",
            " extracting: /content/comedies/The Winter's Tale.txt  \n",
            " extracting: /content/comedies/Troilus and Cressida.txt  \n",
            " extracting: /content/comedies/Twelfth-Night; or What You Will.txt  \n"
          ]
        }
      ]
    },
    {
      "cell_type": "code",
      "metadata": {
        "colab": {
          "base_uri": "https://localhost:8080/",
          "height": 0
        },
        "id": "TgISHVERVx7Z",
        "outputId": "57d80de2-b72e-4141-aff9-01f58f3e429c"
      },
      "source": [
        "import os\n",
        "data_path = '/content/comedies/'\n",
        "f\"Total number of texts: {len(os.listdir(data_path))}\""
      ],
      "execution_count": 5,
      "outputs": [
        {
          "output_type": "execute_result",
          "data": {
            "application/vnd.google.colaboratory.intrinsic+json": {
              "type": "string"
            },
            "text/plain": [
              "'Total number of texts: 17'"
            ]
          },
          "metadata": {},
          "execution_count": 5
        }
      ]
    },
    {
      "cell_type": "code",
      "metadata": {
        "id": "fDTAkSYCZ-Ua",
        "colab": {
          "base_uri": "https://localhost:8080/"
        },
        "outputId": "19cf340d-dab8-40c8-9d58-90938d3fc67d"
      },
      "source": [
        "import re\n",
        "\n",
        "stem = '[0-9]*[!@#$%^&*_+=\\-;:,.—<>?\\'\\/\\\\\\ \"()\\[\\]]+'\n",
        "\n",
        "for text in os.listdir(data_path):\n",
        "  text_name = re.sub(stem, '', text)\n",
        "  file_path = data_path + text_name\n",
        "  os.rename(data_path + text, file_path) \n",
        "\n",
        "rdd_texts = sc.wholeTextFiles(data_path) # create RDD\n",
        "\n",
        "def rename_texts(x):\n",
        "  return re.sub('file:'+data_path, '', x)\n",
        "def clean_text(x):\n",
        "  return re.sub(stem, ' ', x).lower()\n",
        "\n",
        "rdd_texts = rdd_texts.map(lambda x: (rename_texts(x[0]), clean_text(x[1]) ) )\\\n",
        "  .map(lambda x: (x[0], x[1].split()))\n",
        "rdd_texts.count()"
      ],
      "execution_count": 6,
      "outputs": [
        {
          "output_type": "execute_result",
          "data": {
            "text/plain": [
              "17"
            ]
          },
          "metadata": {},
          "execution_count": 6
        }
      ]
    },
    {
      "cell_type": "markdown",
      "metadata": {
        "id": "gD5SjIHvjmo_"
      },
      "source": [
        "# Solution"
      ]
    },
    {
      "cell_type": "markdown",
      "metadata": {
        "id": "K1GNxVOipVGD"
      },
      "source": [
        "## Histogram"
      ]
    },
    {
      "cell_type": "code",
      "metadata": {
        "colab": {
          "base_uri": "https://localhost:8080/"
        },
        "id": "i38kg3wImSZY",
        "outputId": "4a144bca-fece-4d8b-f0a1-a90fedbf76da"
      },
      "source": [
        "rdd_occurences = rdd_texts.flatMap(lambda x: [((x[0],y),1) for y in x[1]]) # not distributed\n",
        "rdd_occurences.take(3)"
      ],
      "execution_count": 7,
      "outputs": [
        {
          "output_type": "execute_result",
          "data": {
            "text/plain": [
              "[(('TroilusandCressidatxt', 'shakespeare'), 1),\n",
              " (('TroilusandCressidatxt', 'troilus'), 1),\n",
              " (('TroilusandCressidatxt', 'and'), 1)]"
            ]
          },
          "metadata": {},
          "execution_count": 7
        }
      ]
    },
    {
      "cell_type": "code",
      "metadata": {
        "colab": {
          "base_uri": "https://localhost:8080/"
        },
        "id": "oPCtVRcTr8iN",
        "outputId": "eec8a033-1fe1-44e9-82f2-735087c17779"
      },
      "source": [
        "rdd_occurences = rdd_texts.flatMapValues(lambda x: x).map(lambda x: (x,1)) # distributed\n",
        "rdd_occurences.take(3)"
      ],
      "execution_count": 8,
      "outputs": [
        {
          "output_type": "execute_result",
          "data": {
            "text/plain": [
              "[(('TroilusandCressidatxt', 'shakespeare'), 1),\n",
              " (('TroilusandCressidatxt', 'troilus'), 1),\n",
              " (('TroilusandCressidatxt', 'and'), 1)]"
            ]
          },
          "metadata": {},
          "execution_count": 8
        }
      ]
    },
    {
      "cell_type": "code",
      "metadata": {
        "colab": {
          "base_uri": "https://localhost:8080/"
        },
        "id": "Iav0_f74s992",
        "outputId": "06fb3736-6481-441a-e059-7dc811fe31b9"
      },
      "source": [
        "rdd_hist = rdd_occurences.reduceByKey(lambda x,y: x+y)\n",
        "rdd_hist.take(3)"
      ],
      "execution_count": 9,
      "outputs": [
        {
          "output_type": "execute_result",
          "data": {
            "text/plain": [
              "[(('TroilusandCressidatxt', 'shakespeare'), 2),\n",
              " (('TroilusandCressidatxt', 'troilus'), 376),\n",
              " (('TroilusandCressidatxt', 'cressida'), 327)]"
            ]
          },
          "metadata": {},
          "execution_count": 9
        }
      ]
    },
    {
      "cell_type": "markdown",
      "metadata": {
        "id": "BFKWHAn5kR5o"
      },
      "source": [
        "## Visual histogram"
      ]
    },
    {
      "cell_type": "code",
      "metadata": {
        "colab": {
          "base_uri": "https://localhost:8080/"
        },
        "id": "qxK4UksAkT0O",
        "outputId": "ef43fd03-7182-43a6-8884-58c563b93792"
      },
      "source": [
        "N = 5\n",
        "print(rdd_hist.map(lambda x : x[1]).histogram(N)) # pyspark implementation"
      ],
      "execution_count": 10,
      "outputs": [
        {
          "output_type": "stream",
          "name": "stdout",
          "text": [
            "([1.0, 194.2, 387.4, 580.5999999999999, 773.8, 967], [55039, 268, 77, 28, 8])\n"
          ]
        }
      ]
    },
    {
      "cell_type": "code",
      "metadata": {
        "colab": {
          "base_uri": "https://localhost:8080/"
        },
        "id": "rwJrueSzKQGF",
        "outputId": "8b1d77ae-535e-44e1-931d-00a4b4b2bcbe"
      },
      "source": [
        "MAX = rdd_hist.map(lambda x : x[1]).max() + 1 \n",
        "bins = {((i-1)*MAX//N, i*MAX//N):0 for i in range(1,N+1)} # Create N even intervals\n",
        "\n",
        "sorted(rdd_hist.map(lambda x: [b for b in bins if x[1] in range (b[0],b[1]) ]).map(lambda x: (x[0],1)).reduceByKey(lambda x,y: x+y).collect())"
      ],
      "execution_count": 11,
      "outputs": [
        {
          "output_type": "execute_result",
          "data": {
            "text/plain": [
              "[((0, 193), 55031),\n",
              " ((193, 387), 276),\n",
              " ((387, 580), 77),\n",
              " ((580, 774), 28),\n",
              " ((774, 968), 8)]"
            ]
          },
          "metadata": {},
          "execution_count": 11
        }
      ]
    },
    {
      "cell_type": "code",
      "metadata": {
        "colab": {
          "base_uri": "https://localhost:8080/",
          "height": 0
        },
        "id": "k59csBd2qEPo",
        "outputId": "3b732002-25a5-4d78-cdf8-16f6853ba16e"
      },
      "source": [
        "import matplotlib.pyplot as plt\n",
        "from matplotlib.pyplot import figure\n",
        "\n",
        "for_histogrom_rdd = rdd_hist.sortBy(lambda x: x[1], ascending=False)\n",
        "print(f\"Most frequent word in a text: {for_histogrom_rdd.first()}\") # just to check if the plot is correct\n",
        "\n",
        "data = for_histogrom_rdd.map(lambda x: x[0]).take(100)\n",
        "labels = for_histogrom_rdd.map(lambda x: x[1]).take(100)\n",
        "\n",
        "figure(figsize=(15, 5), dpi=100)\n",
        "plt.bar(range(len(labels)), labels)\n",
        "plt.xticks(range(len(data)), data, rotation='vertical', size='small')\n",
        "plt.show()"
      ],
      "execution_count": 12,
      "outputs": [
        {
          "output_type": "stream",
          "name": "stdout",
          "text": [
            "Most frequent word in a text: (('Cymbelinetxt', 'the'), 967)\n"
          ]
        },
        {
          "output_type": "display_data",
          "data": {
            "image/png": "[encoded data removed]",
            "text/plain": [
              "<Figure size 1500x500 with 1 Axes>"
            ]
          },
          "metadata": {
            "needs_background": "light"
          }
        }
      ]
    },
    {
      "cell_type": "markdown",
      "metadata": {
        "id": "ckFGLY08KC_P"
      },
      "source": [
        "## More pre-processing: computing TF.IDF\n"
      ]
    },
    {
      "cell_type": "markdown",
      "metadata": {
        "id": "k8yhwnuRpSpc"
      },
      "source": [
        "Term Frequency\n",
        "> Occurence of term w.r.t. the most frequent term in the document"
      ]
    },
    {
      "cell_type": "code",
      "metadata": {
        "colab": {
          "base_uri": "https://localhost:8080/"
        },
        "id": "VxNpd618tkUy",
        "outputId": "63634b5a-a51e-478f-bb34-5265366f94e6"
      },
      "source": [
        "rdd_hist.first()"
      ],
      "execution_count": 13,
      "outputs": [
        {
          "output_type": "execute_result",
          "data": {
            "text/plain": [
              "(('TroilusandCressidatxt', 'shakespeare'), 2)"
            ]
          },
          "metadata": {},
          "execution_count": 13
        }
      ]
    },
    {
      "cell_type": "code",
      "metadata": {
        "colab": {
          "base_uri": "https://localhost:8080/"
        },
        "id": "hth9gctpw8rA",
        "outputId": "6b7358e7-0f3e-4fb4-b17a-e82334ff888d"
      },
      "source": [
        "MAX_tf = rdd_hist.map(lambda x: (x[0][0],x[0][1],x[1])).map(lambda x: (x[1],x[2])).reduceByKey(lambda x,y: x+y).map(lambda x: x[1]).max()\n",
        "tf_rdd = rdd_hist.map(lambda x: (x[0], x[1]/MAX_tf))\n",
        "tf_rdd.take(10)"
      ],
      "execution_count": 14,
      "outputs": [
        {
          "output_type": "execute_result",
          "data": {
            "text/plain": [
              "[(('TroilusandCressidatxt', 'shakespeare'), 0.00017632019747862118),\n",
              " (('TroilusandCressidatxt', 'troilus'), 0.03314819712598078),\n",
              " (('TroilusandCressidatxt', 'cressida'), 0.02882835228775456),\n",
              " (('TroilusandCressidatxt', 'online'), 8.816009873931059e-05),\n",
              " (('TroilusandCressidatxt', 'library'), 8.816009873931059e-05),\n",
              " (('TroilusandCressidatxt', 'of'), 0.044609009962091155),\n",
              " (('TroilusandCressidatxt', 'oll'), 8.816009873931059e-05),\n",
              " (('TroilusandCressidatxt', 'libertyfund'), 8.816009873931059e-05),\n",
              " (('TroilusandCressidatxt', 'org'), 8.816009873931059e-05),\n",
              " (('TroilusandCressidatxt', 'version'), 8.816009873931059e-05)]"
            ]
          },
          "metadata": {},
          "execution_count": 14
        }
      ]
    },
    {
      "cell_type": "markdown",
      "metadata": {
        "id": "wtL99cssrAN0"
      },
      "source": [
        "Inverse Document Frequency\n",
        "> For each term, divide the total number of documents by the number of documents that contain that term"
      ]
    },
    {
      "cell_type": "code",
      "metadata": {
        "colab": {
          "base_uri": "https://localhost:8080/"
        },
        "id": "BWhqCKx808_d",
        "outputId": "cbd3e8fb-99b7-461d-8a51-38ba283efaa0"
      },
      "source": [
        "from math import log \n",
        "\n",
        "N_docs = rdd_hist.map(lambda x: (x[0][0])).distinct().count()\n",
        "\n",
        "idf_rdd = tf_rdd.map(lambda x: (x[0][1], (x[0][0], x[1], 1)) )\\\n",
        "                .map(lambda x: (x[0], x[1][2]))\\\n",
        "                .reduceByKey(lambda x,y: x+y)\\\n",
        "                .map(lambda x: (x[0], log(N_docs / x[1] )) )\n",
        "\n",
        "idf_rdd.take(10)"
      ],
      "execution_count": 15,
      "outputs": [
        {
          "output_type": "execute_result",
          "data": {
            "text/plain": [
              "[('shakespeare', 0.0),\n",
              " ('troilus', 1.0414538748281612),\n",
              " ('cressida', 2.1400661634962708),\n",
              " ('online', 0.0),\n",
              " ('library', 0.0),\n",
              " ('of', 0.0),\n",
              " ('oll', 0.0),\n",
              " ('libertyfund', 0.0),\n",
              " ('org', 0.0),\n",
              " ('version', 0.0)]"
            ]
          },
          "metadata": {},
          "execution_count": 15
        }
      ]
    },
    {
      "cell_type": "code",
      "metadata": {
        "colab": {
          "base_uri": "https://localhost:8080/"
        },
        "id": "QunrUfpuBUCy",
        "outputId": "d979852f-7083-48a3-b105-c7d4dd538384"
      },
      "source": [
        "tf_idf_rdd = tf_rdd.map(lambda x: (x[0][1], (x[0][0], x[1]) ) ).join(idf_rdd).map(lambda x: (x[0], (x[1][0][0], x[1][0][1] * x[1][1]) ) )\n",
        "tf_idf_rdd.take(3)"
      ],
      "execution_count": 16,
      "outputs": [
        {
          "output_type": "execute_result",
          "data": {
            "text/plain": [
              "[('library', ('TroilusandCressidatxt', 0.0)),\n",
              " ('library', ('MuchAdoaboutNothingtxt', 0.0)),\n",
              " ('library', ('TheWintersTaletxt', 0.0))]"
            ]
          },
          "metadata": {},
          "execution_count": 16
        }
      ]
    },
    {
      "cell_type": "code",
      "metadata": {
        "colab": {
          "base_uri": "https://localhost:8080/"
        },
        "id": "T_bpoPcdFcQz",
        "outputId": "1cf9d6e8-4a0a-47fe-c5e7-efde53c3365e"
      },
      "source": [
        "tf_idf_rdd.map(lambda x : (x[0], x[1][1])).takeOrdered(10, key=lambda x: -x[1])"
      ],
      "execution_count": 17,
      "outputs": [
        {
          "output_type": "execute_result",
          "data": {
            "text/plain": [
              "[('rosalind', 0.1188935512448875),\n",
              " ('ford', 0.11789444577224138),\n",
              " ('syr', 0.10090965273725745),\n",
              " ('antipholus', 0.09841188905564217),\n",
              " ('mrs', 0.09566434900586536),\n",
              " ('dromio', 0.09466524353321926),\n",
              " ('petruchio', 0.09266703258792704),\n",
              " ('proteus', 0.09066882164263479),\n",
              " ('berowne', 0.08817105796101951),\n",
              " ('benedick', 0.083675083334112)]"
            ]
          },
          "metadata": {},
          "execution_count": 17
        }
      ]
    },
    {
      "cell_type": "markdown",
      "metadata": {
        "id": "2m8bMGrpj9f2"
      },
      "source": [
        "## Cosine similarity"
      ]
    },
    {
      "cell_type": "code",
      "metadata": {
        "id": "LG6Z7eEBte3e",
        "colab": {
          "base_uri": "https://localhost:8080/"
        },
        "outputId": "7a073da9-bea8-460d-a94d-bfd81d4a75d8"
      },
      "source": [
        "term_key_rdd = rdd_hist.map(lambda x: (x[0][1], (x[0][0], x[1])))\n",
        "term_key_rdd.take(3)"
      ],
      "execution_count": 18,
      "outputs": [
        {
          "output_type": "execute_result",
          "data": {
            "text/plain": [
              "[('shakespeare', ('TroilusandCressidatxt', 2)),\n",
              " ('troilus', ('TroilusandCressidatxt', 376)),\n",
              " ('cressida', ('TroilusandCressidatxt', 327))]"
            ]
          },
          "metadata": {},
          "execution_count": 18
        }
      ]
    },
    {
      "cell_type": "code",
      "metadata": {
        "colab": {
          "base_uri": "https://localhost:8080/"
        },
        "id": "_dL8Kco3Ur5t",
        "outputId": "128e1b62-d7b1-48b9-bcfd-a022bb12af01"
      },
      "source": [
        "inner_join_rdd = term_key_rdd.join(term_key_rdd)\n",
        "inner_join_rdd.take(10)"
      ],
      "execution_count": 19,
      "outputs": [
        {
          "output_type": "execute_result",
          "data": {
            "text/plain": [
              "[('library', (('TroilusandCressidatxt', 1), ('TroilusandCressidatxt', 1))),\n",
              " ('library', (('TroilusandCressidatxt', 1), ('MuchAdoaboutNothingtxt', 1))),\n",
              " ('library', (('TroilusandCressidatxt', 1), ('TheWintersTaletxt', 1))),\n",
              " ('library', (('TroilusandCressidatxt', 1), ('AMidsummerNightsDreamtxt', 1))),\n",
              " ('library', (('TroilusandCressidatxt', 1), ('LovesLaboursLosttxt', 1))),\n",
              " ('library', (('TroilusandCressidatxt', 1), ('TheMerryWivesofWindsortxt', 1))),\n",
              " ('library',\n",
              "  (('TroilusandCressidatxt', 1), ('TheTwoGentlemenofVeronatxt', 1))),\n",
              " ('library', (('TroilusandCressidatxt', 1), ('TheMerchantofVenicetxt', 1))),\n",
              " ('library', (('TroilusandCressidatxt', 1), ('TheTamingoftheShrewtxt', 1))),\n",
              " ('library', (('TroilusandCressidatxt', 1), ('TheTempesttxt', 3)))]"
            ]
          },
          "metadata": {},
          "execution_count": 19
        }
      ]
    },
    {
      "cell_type": "code",
      "metadata": {
        "colab": {
          "base_uri": "https://localhost:8080/"
        },
        "id": "KRPbnms8S6Yd",
        "outputId": "2db8bcfe-8aea-47ef-d9b4-c294392e0f62"
      },
      "source": [
        "def make_pairs(x):\n",
        "    return ((x[1][0][0],x[1][1][0]),(x[1][0][1],x[1][1][1]))\n",
        "\n",
        "doc_pairs_rdd = inner_join_rdd.filter(lambda x: x[1][0][0] != x[1][1][0]).map(lambda x: make_pairs(x))\n",
        "doc_pairs_rdd.take(10)"
      ],
      "execution_count": 20,
      "outputs": [
        {
          "output_type": "execute_result",
          "data": {
            "text/plain": [
              "[(('TroilusandCressidatxt', 'MuchAdoaboutNothingtxt'), (1, 1)),\n",
              " (('TroilusandCressidatxt', 'TheWintersTaletxt'), (1, 1)),\n",
              " (('TroilusandCressidatxt', 'AMidsummerNightsDreamtxt'), (1, 1)),\n",
              " (('TroilusandCressidatxt', 'LovesLaboursLosttxt'), (1, 1)),\n",
              " (('TroilusandCressidatxt', 'TheMerryWivesofWindsortxt'), (1, 1)),\n",
              " (('TroilusandCressidatxt', 'TheTwoGentlemenofVeronatxt'), (1, 1)),\n",
              " (('TroilusandCressidatxt', 'TheMerchantofVenicetxt'), (1, 1)),\n",
              " (('TroilusandCressidatxt', 'TheTamingoftheShrewtxt'), (1, 1)),\n",
              " (('TroilusandCressidatxt', 'TheTempesttxt'), (1, 3)),\n",
              " (('TroilusandCressidatxt', 'AsYouLikeIttxt'), (1, 1))]"
            ]
          },
          "metadata": {},
          "execution_count": 20
        }
      ]
    },
    {
      "cell_type": "code",
      "metadata": {
        "colab": {
          "base_uri": "https://localhost:8080/"
        },
        "id": "cSi6bnfBVWaN",
        "outputId": "2d38c5bb-81e0-4c82-fd89-a388ed20c66b"
      },
      "source": [
        "cosine_sim_rdd = doc_pairs_rdd.mapValues(lambda x: (x[0]*x[1],x[0]*x[0],x[1]*x[1]))\\\n",
        "                              .reduceByKey(lambda x,y: (x[0]+y[0],x[1]+y[1],x[2]+y[2]))\\\n",
        "                              .mapValues(lambda x: x[0]/((x[1]**(1/2))*(x[2]**(1/2))))\n",
        "cosine_sim_rdd.take(10)"
      ],
      "execution_count": 21,
      "outputs": [
        {
          "output_type": "execute_result",
          "data": {
            "text/plain": [
              "[(('TroilusandCressidatxt', 'LovesLaboursLosttxt'), 0.945461051301803),\n",
              " (('MuchAdoaboutNothingtxt', 'LovesLaboursLosttxt'), 0.9220588236061651),\n",
              " (('TheWintersTaletxt', 'LovesLaboursLosttxt'), 0.9530832371273357),\n",
              " (('AMidsummerNightsDreamtxt', 'LovesLaboursLosttxt'), 0.9464803254932969),\n",
              " (('LovesLaboursLosttxt', 'TroilusandCressidatxt'), 0.945461051301803),\n",
              " (('LovesLaboursLosttxt', 'MuchAdoaboutNothingtxt'), 0.9220588236061651),\n",
              " (('LovesLaboursLosttxt', 'TheWintersTaletxt'), 0.9530832371273357),\n",
              " (('LovesLaboursLosttxt', 'AMidsummerNightsDreamtxt'), 0.9464803254932969),\n",
              " (('TheMerryWivesofWindsortxt', 'TheTamingoftheShrewtxt'), 0.9329042854396887),\n",
              " (('TheMerryWivesofWindsortxt', 'Cymbelinetxt'), 0.9041022630611331)]"
            ]
          },
          "metadata": {},
          "execution_count": 21
        }
      ]
    },
    {
      "cell_type": "code",
      "metadata": {
        "colab": {
          "base_uri": "https://localhost:8080/"
        },
        "id": "PzgrGzajawDV",
        "outputId": "2a63dde6-aed8-4300-aae8-a6fbacacd53b"
      },
      "source": [
        "best_cosine_rdd = cosine_sim_rdd.map(lambda x: (x[0][0],(x[0][1],x[1])))\\\n",
        "                                .sortByKey()\n",
        "best_cosine_rdd.take(3)"
      ],
      "execution_count": 22,
      "outputs": [
        {
          "output_type": "execute_result",
          "data": {
            "text/plain": [
              "[('AMidsummerNightsDreamtxt', ('LovesLaboursLosttxt', 0.9464803254932969)),\n",
              " ('AMidsummerNightsDreamtxt',\n",
              "  ('TheTwoGentlemenofVeronatxt', 0.9096044563093637)),\n",
              " ('AMidsummerNightsDreamtxt', ('TheMerchantofVenicetxt', 0.9679938282169244))]"
            ]
          },
          "metadata": {},
          "execution_count": 22
        }
      ]
    },
    {
      "cell_type": "markdown",
      "metadata": {
        "id": "6nHUJ0tLN3nH"
      },
      "source": [
        "## Cosine Similarity : TF-IDF edition"
      ]
    },
    {
      "cell_type": "code",
      "metadata": {
        "colab": {
          "base_uri": "https://localhost:8080/"
        },
        "id": "ynAhdhLXN25D",
        "outputId": "6b93daa3-987c-4021-9c47-e97e9bb308f1"
      },
      "source": [
        "inner_join_tf_idf = tf_idf_rdd.join(tf_idf_rdd).filter(lambda x: (x[1][0][0] != x[1][1][0]))\\\n",
        "                                               .map(lambda x: (x[0], (x[1][0][0], x[1][1][0]), (x[1][0][1], x[1][1][1]) ))\n",
        "inner_join_tf_idf.take(10)"
      ],
      "execution_count": 23,
      "outputs": [
        {
          "output_type": "execute_result",
          "data": {
            "text/plain": [
              "[('library', ('TroilusandCressidatxt', 'MuchAdoaboutNothingtxt'), (0.0, 0.0)),\n",
              " ('library', ('TroilusandCressidatxt', 'TheWintersTaletxt'), (0.0, 0.0)),\n",
              " ('library',\n",
              "  ('TroilusandCressidatxt', 'AMidsummerNightsDreamtxt'),\n",
              "  (0.0, 0.0)),\n",
              " ('library', ('TroilusandCressidatxt', 'LovesLaboursLosttxt'), (0.0, 0.0)),\n",
              " ('library',\n",
              "  ('TroilusandCressidatxt', 'TheMerryWivesofWindsortxt'),\n",
              "  (0.0, 0.0)),\n",
              " ('library',\n",
              "  ('TroilusandCressidatxt', 'TheTwoGentlemenofVeronatxt'),\n",
              "  (0.0, 0.0)),\n",
              " ('library', ('TroilusandCressidatxt', 'TheMerchantofVenicetxt'), (0.0, 0.0)),\n",
              " ('library', ('TroilusandCressidatxt', 'TheTamingoftheShrewtxt'), (0.0, 0.0)),\n",
              " ('library', ('TroilusandCressidatxt', 'TheTempesttxt'), (0.0, 0.0)),\n",
              " ('library', ('TroilusandCressidatxt', 'AsYouLikeIttxt'), (0.0, 0.0))]"
            ]
          },
          "metadata": {},
          "execution_count": 23
        }
      ]
    },
    {
      "cell_type": "code",
      "metadata": {
        "colab": {
          "base_uri": "https://localhost:8080/"
        },
        "id": "KfyAO0lXP_ZE",
        "outputId": "4b0a25ed-1d11-4c23-edbb-36030c082bb5"
      },
      "source": [
        "# use document pair as key, compute A^2, AxB, B^2 \n",
        "cosine_sim_rdd_tf_idf = inner_join_tf_idf.map(lambda x: (x[1], (x[2][0]*x[2][0], x[2][0]*x[2][1], x[2][1]*x[2][1] )))\\\n",
        "                                  .reduceByKey(lambda x, y : ( x[0]+y[0], x[1]+y[1], x[2]+y[2] ) )\\\n",
        "                                  .map(lambda x: (x[0], x[1][1]/ ((x[1][0]**(1/2))*(x[1][2]**(1/2))) ) )\n",
        "cosine_sim_rdd_tf_idf.take(10)"
      ],
      "execution_count": 24,
      "outputs": [
        {
          "output_type": "execute_result",
          "data": {
            "text/plain": [
              "[(('TroilusandCressidatxt', 'LovesLaboursLosttxt'), 0.2986008598500226),\n",
              " (('LovesLaboursLosttxt', 'MuchAdoaboutNothingtxt'), 0.07118811142826537),\n",
              " (('LovesLaboursLosttxt', 'TheWintersTaletxt'), 0.11422884005306469),\n",
              " (('LovesLaboursLosttxt', 'AMidsummerNightsDreamtxt'), 0.18839123019978973),\n",
              " (('TheMerryWivesofWindsortxt', 'TheTamingoftheShrewtxt'),\n",
              "  0.24155177973610747),\n",
              " (('TheTwoGentlemenofVeronatxt', 'TheTempesttxt'), 0.3636966570663542),\n",
              " (('TheTwoGentlemenofVeronatxt', 'AsYouLikeIttxt'), 0.5021136753409225),\n",
              " (('TheTwoGentlemenofVeronatxt', 'AllsWellThatEndsWelltxt'),\n",
              "  0.37361074681900297),\n",
              " (('TheTwoGentlemenofVeronatxt', 'TheComedyofErrorstxt'), 0.41692922302528695),\n",
              " (('TheMerchantofVenicetxt', 'TheTempesttxt'), 0.48758067108789876)]"
            ]
          },
          "metadata": {},
          "execution_count": 24
        }
      ]
    },
    {
      "cell_type": "markdown",
      "metadata": {
        "id": "nXxV8RM7kDFi"
      },
      "source": [
        "## Euclidean Distance"
      ]
    },
    {
      "cell_type": "code",
      "metadata": {
        "colab": {
          "base_uri": "https://localhost:8080/"
        },
        "id": "QPe4_pVdawGd",
        "outputId": "c72c5d76-17ea-448b-a0fa-5d460323b277"
      },
      "source": [
        "outer_join_rdd = term_key_rdd.fullOuterJoin(term_key_rdd)\n",
        "outer_join_rdd.take(3)"
      ],
      "execution_count": 25,
      "outputs": [
        {
          "output_type": "execute_result",
          "data": {
            "text/plain": [
              "[('library', (('TroilusandCressidatxt', 1), ('TroilusandCressidatxt', 1))),\n",
              " ('library', (('TroilusandCressidatxt', 1), ('MuchAdoaboutNothingtxt', 1))),\n",
              " ('library', (('TroilusandCressidatxt', 1), ('TheWintersTaletxt', 1)))]"
            ]
          },
          "metadata": {},
          "execution_count": 25
        }
      ]
    },
    {
      "cell_type": "code",
      "metadata": {
        "colab": {
          "base_uri": "https://localhost:8080/"
        },
        "id": "rU2bkwTpa7AX",
        "outputId": "fb53245d-76d2-4fb7-a898-d1280fa08d48"
      },
      "source": [
        "def make_pairs_2(x):\n",
        "    y1 = 0 if x[1][0][1]==None else x[1][0][1]\n",
        "    y2 = 0 if x[1][1][1]==None else x[1][1][1]\n",
        "    return ((x[1][0][0],x[1][1][0]),(y1,y2))\n",
        "\n",
        "doc_pairs_rdd = outer_join_rdd.filter(lambda x: x[1][0][0] != x[1][1][0]).map(lambda x: make_pairs_2(x))\n",
        "doc_pairs_rdd.take(3)"
      ],
      "execution_count": 26,
      "outputs": [
        {
          "output_type": "execute_result",
          "data": {
            "text/plain": [
              "[(('TroilusandCressidatxt', 'MuchAdoaboutNothingtxt'), (1, 1)),\n",
              " (('TroilusandCressidatxt', 'TheWintersTaletxt'), (1, 1)),\n",
              " (('TroilusandCressidatxt', 'AMidsummerNightsDreamtxt'), (1, 1))]"
            ]
          },
          "metadata": {},
          "execution_count": 26
        }
      ]
    },
    {
      "cell_type": "code",
      "metadata": {
        "colab": {
          "base_uri": "https://localhost:8080/"
        },
        "id": "opaND7uNcEj_",
        "outputId": "dd6cf395-80e6-4aa8-e229-535d8a1589c2"
      },
      "source": [
        "euclidean_rdd = doc_pairs_rdd.mapValues(lambda x: (x[0]-x[1])**2)\\\n",
        "                             .reduceByKey(lambda x,y: x+y)\\\n",
        "                             .mapValues(lambda x: x**(1/2))\n",
        "euclidean_rdd.take(3)"
      ],
      "execution_count": 27,
      "outputs": [
        {
          "output_type": "execute_result",
          "data": {
            "text/plain": [
              "[(('TroilusandCressidatxt', 'LovesLaboursLosttxt'), 774.9496757854668),\n",
              " (('MuchAdoaboutNothingtxt', 'LovesLaboursLosttxt'), 761.2272985120804),\n",
              " (('TheWintersTaletxt', 'LovesLaboursLosttxt'), 697.5349453611625)]"
            ]
          },
          "metadata": {},
          "execution_count": 27
        }
      ]
    },
    {
      "cell_type": "markdown",
      "metadata": {
        "id": "-ItU-5CFX2UN"
      },
      "source": [
        "# Say I want the most similar comedies"
      ]
    },
    {
      "cell_type": "code",
      "metadata": {
        "colab": {
          "base_uri": "https://localhost:8080/"
        },
        "id": "BOO7K1JkZSQE",
        "outputId": "c21ffee9-4c93-4287-d704-11b5c544942c"
      },
      "source": [
        "check = [cosine_sim_rdd, cosine_sim_rdd_tf_idf, euclidean_rdd]\n",
        "text_to_check = 'TheMerchantofVenicetxt'\n",
        "for text in check:\n",
        "  top_3_similar = cosine_sim_rdd.filter(lambda x: x[0][0] == 'TheMerchantofVenicetxt').sortByKey() # dumb way\n",
        "  print(text, '\\n', top_3_similar.take(3))"
      ],
      "execution_count": 28,
      "outputs": [
        {
          "output_type": "stream",
          "name": "stdout",
          "text": [
            "PythonRDD[109] at RDD at PythonRDD.scala:53 \n",
            " [(('TheMerchantofVenicetxt', 'AMidsummerNightsDreamtxt'), 0.9679938282169244), (('TheMerchantofVenicetxt', 'AllsWellThatEndsWelltxt'), 0.9649688398659716), (('TheMerchantofVenicetxt', 'AsYouLikeIttxt'), 0.9824952353202707)]\n",
            "PythonRDD[117] at RDD at PythonRDD.scala:53 \n",
            " [(('TheMerchantofVenicetxt', 'AMidsummerNightsDreamtxt'), 0.9679938282169244), (('TheMerchantofVenicetxt', 'AllsWellThatEndsWelltxt'), 0.9649688398659716), (('TheMerchantofVenicetxt', 'AsYouLikeIttxt'), 0.9824952353202707)]\n",
            "PythonRDD[125] at RDD at PythonRDD.scala:53 \n",
            " [(('TheMerchantofVenicetxt', 'AMidsummerNightsDreamtxt'), 0.9679938282169244), (('TheMerchantofVenicetxt', 'AllsWellThatEndsWelltxt'), 0.9649688398659716), (('TheMerchantofVenicetxt', 'AsYouLikeIttxt'), 0.9824952353202707)]\n"
          ]
        }
      ]
    },
    {
      "cell_type": "code",
      "metadata": {
        "colab": {
          "base_uri": "https://localhost:8080/"
        },
        "id": "VKIk6zBkbRMJ",
        "outputId": "307a0964-93a3-4bbd-9b36-5378b6509039"
      },
      "source": [
        "def topN(x,y,top):\n",
        "    x = [x] if type(x)!=list else x\n",
        "    y = [y] if type(y)!=list else y\n",
        "    return sorted([*x,*y], reverse = True, key=lambda x:x[1])[:top]\n",
        "\n",
        "def for_all_top_N(rdd_, N=5, how_many=5):\n",
        "  best_cosine_rdd = cosine_sim_rdd.map(lambda x: (x[0][0],(x[0][1],x[1])))\\\n",
        "                                  .reduceByKey(lambda x,y: topN(x,y,N))\n",
        "  print(best_cosine_rdd.take(how_many))\n",
        "\n",
        "for text in check:\n",
        "  for_all_top_N(text)"
      ],
      "execution_count": 29,
      "outputs": [
        {
          "output_type": "stream",
          "name": "stdout",
          "text": [
            "[('TroilusandCressidatxt', [('AMidsummerNightsDreamtxt', 0.9737028562342568), ('PericlesPrinceofTyretxt', 0.9730948372982183), ('MeasureforMeasuretxt', 0.9723025866372901), ('Cymbelinetxt', 0.968576928768682), ('TheWintersTaletxt', 0.9684324147704613)]), ('MuchAdoaboutNothingtxt', [('AsYouLikeIttxt', 0.9781040225000966), ('TwelfthNightorWhatYouWilltxt', 0.9732777878605727), ('TheMerchantofVenicetxt', 0.9706932086354716), ('TheTamingoftheShrewtxt', 0.968753530156773), ('AllsWellThatEndsWelltxt', 0.9657082493220244)]), ('TheWintersTaletxt', [('Cymbelinetxt', 0.9870972831934658), ('TheMerchantofVenicetxt', 0.9783951515732792), ('MeasureforMeasuretxt', 0.9758358345284837), ('PericlesPrinceofTyretxt', 0.9744594475793763), ('AllsWellThatEndsWelltxt', 0.9743651497801749)]), ('AMidsummerNightsDreamtxt', [('TroilusandCressidatxt', 0.9737028562342568), ('TheTempesttxt', 0.9686112800433853), ('TheMerchantofVenicetxt', 0.9679938282169244), ('AsYouLikeIttxt', 0.9672519758083207), ('Cymbelinetxt', 0.9653667298233659)]), ('TheTwoGentlemenofVeronatxt', [('TheTamingoftheShrewtxt', 0.9568971383028216), ('AsYouLikeIttxt', 0.9523738982688638), ('TheComedyofErrorstxt', 0.9515624482184892), ('PericlesPrinceofTyretxt', 0.951187076104724), ('TheWintersTaletxt', 0.9462136807206402)])]\n",
            "[('TroilusandCressidatxt', [('AMidsummerNightsDreamtxt', 0.9737028562342568), ('PericlesPrinceofTyretxt', 0.9730948372982183), ('MeasureforMeasuretxt', 0.9723025866372901), ('Cymbelinetxt', 0.968576928768682), ('TheWintersTaletxt', 0.9684324147704613)]), ('MuchAdoaboutNothingtxt', [('AsYouLikeIttxt', 0.9781040225000966), ('TwelfthNightorWhatYouWilltxt', 0.9732777878605727), ('TheMerchantofVenicetxt', 0.9706932086354716), ('TheTamingoftheShrewtxt', 0.968753530156773), ('AllsWellThatEndsWelltxt', 0.9657082493220244)]), ('TheWintersTaletxt', [('Cymbelinetxt', 0.9870972831934658), ('TheMerchantofVenicetxt', 0.9783951515732792), ('MeasureforMeasuretxt', 0.9758358345284837), ('PericlesPrinceofTyretxt', 0.9744594475793763), ('AllsWellThatEndsWelltxt', 0.9743651497801749)]), ('AMidsummerNightsDreamtxt', [('TroilusandCressidatxt', 0.9737028562342568), ('TheTempesttxt', 0.9686112800433853), ('TheMerchantofVenicetxt', 0.9679938282169244), ('AsYouLikeIttxt', 0.9672519758083207), ('Cymbelinetxt', 0.9653667298233659)]), ('TheTwoGentlemenofVeronatxt', [('TheTamingoftheShrewtxt', 0.9568971383028216), ('AsYouLikeIttxt', 0.9523738982688638), ('TheComedyofErrorstxt', 0.9515624482184892), ('PericlesPrinceofTyretxt', 0.951187076104724), ('TheWintersTaletxt', 0.9462136807206402)])]\n",
            "[('TroilusandCressidatxt', [('AMidsummerNightsDreamtxt', 0.9737028562342568), ('PericlesPrinceofTyretxt', 0.9730948372982183), ('MeasureforMeasuretxt', 0.9723025866372901), ('Cymbelinetxt', 0.968576928768682), ('TheWintersTaletxt', 0.9684324147704613)]), ('MuchAdoaboutNothingtxt', [('AsYouLikeIttxt', 0.9781040225000966), ('TwelfthNightorWhatYouWilltxt', 0.9732777878605727), ('TheMerchantofVenicetxt', 0.9706932086354716), ('TheTamingoftheShrewtxt', 0.968753530156773), ('AllsWellThatEndsWelltxt', 0.9657082493220244)]), ('TheWintersTaletxt', [('Cymbelinetxt', 0.9870972831934658), ('TheMerchantofVenicetxt', 0.9783951515732792), ('MeasureforMeasuretxt', 0.9758358345284837), ('PericlesPrinceofTyretxt', 0.9744594475793763), ('AllsWellThatEndsWelltxt', 0.9743651497801749)]), ('AMidsummerNightsDreamtxt', [('TroilusandCressidatxt', 0.9737028562342568), ('TheTempesttxt', 0.9686112800433853), ('TheMerchantofVenicetxt', 0.9679938282169244), ('AsYouLikeIttxt', 0.9672519758083207), ('Cymbelinetxt', 0.9653667298233659)]), ('TheTwoGentlemenofVeronatxt', [('TheTamingoftheShrewtxt', 0.9568971383028216), ('AsYouLikeIttxt', 0.9523738982688638), ('TheComedyofErrorstxt', 0.9515624482184892), ('PericlesPrinceofTyretxt', 0.951187076104724), ('TheWintersTaletxt', 0.9462136807206402)])]\n"
          ]
        }
      ]
    }
  ]
}