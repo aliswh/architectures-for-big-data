{
  "nbformat": 4,
  "nbformat_minor": 0,
  "metadata": {
    "colab": {
      "name": "Challenge-2_AFBD.ipynb",
      "provenance": [],
      "collapsed_sections": [
        "AuMNWouAx6u1"
      ]
    },
    "kernelspec": {
      "name": "python3",
      "display_name": "Python 3"
    },
    "language_info": {
      "name": "python"
    }
  },
  "cells": [
    {
      "cell_type": "markdown",
      "metadata": {
        "id": "1ApXIs0ZTSlu"
      },
      "source": [
        "Given a textual document:\n",
        "0. Apply some preprocessing to the words - choose between bag of words, TF.IDF, stemming, shingles...\n",
        "1. Compute the histogram: count the occurences of the words\n",
        "2. Compute the cosine similarity and output a ranking of the most similar elements.\n"
      ]
    },
    {
      "cell_type": "markdown",
      "metadata": {
        "id": "AuMNWouAx6u1"
      },
      "source": [
        "# Env Set up"
      ]
    },
    {
      "cell_type": "code",
      "metadata": {
        "colab": {
          "base_uri": "https://localhost:8080/"
        },
        "id": "IFH9zQGdta1S",
        "outputId": "7e3f93cf-48be-4dfc-cdc6-ce44a5991aba"
      },
      "source": [
        "!apt-get install openjdk-8-jdk-headless -qq > /dev/null\n",
        "!pip install pyspark\n",
        "!pip install -q findspark\n",
        "!pip show pyspark\n",
        "!pip install memory_profiler\n",
        "%load_ext memory_profiler"
      ],
      "execution_count": 1,
      "outputs": [
        {
          "output_type": "stream",
          "name": "stdout",
          "text": [
            "Collecting pyspark\n",
            "  Downloading pyspark-3.2.0.tar.gz (281.3 MB)\n",
            "\u001b[K     |████████████████████████████████| 281.3 MB 38 kB/s \n",
            "\u001b[?25hCollecting py4j==0.10.9.2\n",
            "  Downloading py4j-0.10.9.2-py2.py3-none-any.whl (198 kB)\n",
            "\u001b[K     |████████████████████████████████| 198 kB 50.0 MB/s \n",
            "\u001b[?25hBuilding wheels for collected packages: pyspark\n",
            "  Building wheel for pyspark (setup.py) ... \u001b[?25l\u001b[?25hdone\n",
            "  Created wheel for pyspark: filename=pyspark-3.2.0-py2.py3-none-any.whl size=281805912 sha256=24e9447a92ce832f0fd59bced367fdcbbafdb7d4c8ed02668fc34bd2afe2a003\n",
            "  Stored in directory: /root/.cache/pip/wheels/0b/de/d2/9be5d59d7331c6c2a7c1b6d1a4f463ce107332b1ecd4e80718\n",
            "Successfully built pyspark\n",
            "Installing collected packages: py4j, pyspark\n",
            "Successfully installed py4j-0.10.9.2 pyspark-3.2.0\n",
            "Name: pyspark\n",
            "Version: 3.2.0\n",
            "Summary: Apache Spark Python API\n",
            "Home-page: https://github.com/apache/spark/tree/master/python\n",
            "Author: Spark Developers\n",
            "Author-email: dev@spark.apache.org\n",
            "License: http://www.apache.org/licenses/LICENSE-2.0\n",
            "Location: /usr/local/lib/python3.7/dist-packages\n",
            "Requires: py4j\n",
            "Required-by: \n",
            "Collecting memory_profiler\n",
            "  Downloading memory_profiler-0.58.0.tar.gz (36 kB)\n",
            "Requirement already satisfied: psutil in /usr/local/lib/python3.7/dist-packages (from memory_profiler) (5.4.8)\n",
            "Building wheels for collected packages: memory-profiler\n",
            "  Building wheel for memory-profiler (setup.py) ... \u001b[?25l\u001b[?25hdone\n",
            "  Created wheel for memory-profiler: filename=memory_profiler-0.58.0-py3-none-any.whl size=30190 sha256=8622e87063b16c95664f830ca9e7ad36d67e216cb31238a714a9b272030103ce\n",
            "  Stored in directory: /root/.cache/pip/wheels/56/19/d5/8cad06661aec65a04a0d6785b1a5ad035cb645b1772a4a0882\n",
            "Successfully built memory-profiler\n",
            "Installing collected packages: memory-profiler\n",
            "Successfully installed memory-profiler-0.58.0\n"
          ]
        }
      ]
    },
    {
      "cell_type": "code",
      "metadata": {
        "id": "uC4UOqUPthsv",
        "colab": {
          "base_uri": "https://localhost:8080/",
          "height": 0
        },
        "outputId": "af6f4efe-9ec8-4ae6-cd9b-af8b39040cba"
      },
      "source": [
        "import os\n",
        "os.environ[\"JAVA_HOME\"] = \"/usr/lib/jvm/java-8-openjdk-amd64\"\n",
        "os.environ[\"SPARK_HOME\"] = \"/usr/local/lib/python3.7/dist-packages/pyspark\"\n",
        "\n",
        "import pyspark\n",
        "sc = pyspark.SparkContext(\"local[*]\").getOrCreate()\n",
        "sc"
      ],
      "execution_count": 2,
      "outputs": [
        {
          "output_type": "execute_result",
          "data": {
            "text/html": [
              "\n",
              "        <div>\n",
              "            <p><b>SparkContext</b></p>\n",
              "\n",
              "            <p><a href=\"http://4319d37f9c0b:4040\">Spark UI</a></p>\n",
              "\n",
              "            <dl>\n",
              "              <dt>Version</dt>\n",
              "                <dd><code>v3.2.0</code></dd>\n",
              "              <dt>Master</dt>\n",
              "                <dd><code>local[*]</code></dd>\n",
              "              <dt>AppName</dt>\n",
              "                <dd><code>pyspark-shell</code></dd>\n",
              "            </dl>\n",
              "        </div>\n",
              "        "
            ],
            "text/plain": [
              "<SparkContext master=local[*] appName=pyspark-shell>"
            ]
          },
          "metadata": {},
          "execution_count": 2
        }
      ]
    },
    {
      "cell_type": "code",
      "metadata": {
        "id": "Ez3Ct5xrAvFV"
      },
      "source": [
        "import findspark\n",
        "findspark.init()"
      ],
      "execution_count": 3,
      "outputs": []
    },
    {
      "cell_type": "markdown",
      "metadata": {
        "id": "ugXeuovGUbFe"
      },
      "source": [
        "# Text Choice and Pre-processing\n",
        "I will compute the similarities between [Shakespeare comedies](http://shakespeare.mit.edu/). \n",
        "\n",
        "\n",
        "\n"
      ]
    },
    {
      "cell_type": "code",
      "metadata": {
        "colab": {
          "base_uri": "https://localhost:8080/"
        },
        "id": "NGZhmvqNVqg0",
        "outputId": "b092213f-0306-4116-cfbc-a3b69266f559"
      },
      "source": [
        "!wget https://github.com/aliswh/architectures-for-big-data/raw/main/data/comedies.zip\n",
        "!mkdir /content/comedies\n",
        "!unzip /content/comedies.zip -d /content/comedies"
      ],
      "execution_count": 4,
      "outputs": [
        {
          "output_type": "stream",
          "name": "stdout",
          "text": [
            "--2021-11-14 18:29:22--  https://github.com/aliswh/architectures-for-big-data/raw/main/data/comedies.zip\n",
            "Resolving github.com (github.com)... 52.192.72.89\n",
            "Connecting to github.com (github.com)|52.192.72.89|:443... connected.\n",
            "HTTP request sent, awaiting response... 302 Found\n",
            "Location: https://raw.githubusercontent.com/aliswh/architectures-for-big-data/main/data/comedies.zip [following]\n",
            "--2021-11-14 18:29:22--  https://raw.githubusercontent.com/aliswh/architectures-for-big-data/main/data/comedies.zip\n",
            "Resolving raw.githubusercontent.com (raw.githubusercontent.com)... 185.199.109.133, 185.199.110.133, 185.199.108.133, ...\n",
            "Connecting to raw.githubusercontent.com (raw.githubusercontent.com)|185.199.109.133|:443... connected.\n",
            "HTTP request sent, awaiting response... 200 OK\n",
            "Length: 2509186 (2.4M) [application/zip]\n",
            "Saving to: ‘comedies.zip’\n",
            "\n",
            "comedies.zip        100%[===================>]   2.39M  --.-KB/s    in 0.08s   \n",
            "\n",
            "2021-11-14 18:29:23 (30.1 MB/s) - ‘comedies.zip’ saved [2509186/2509186]\n",
            "\n",
            "Archive:  /content/comedies.zip\n",
            " extracting: /content/comedies/A Midsummer-Night's Dream.txt  \n",
            " extracting: /content/comedies/All's Well That Ends Well.txt  \n",
            " extracting: /content/comedies/As You Like It.txt  \n",
            " extracting: /content/comedies/Cymbeline.txt  \n",
            " extracting: /content/comedies/Love's Labour's Lost.txt  \n",
            " extracting: /content/comedies/Measure for Measure.txt  \n",
            " extracting: /content/comedies/Much Ado about Nothing.txt  \n",
            " extracting: /content/comedies/Pericles, Prince of Tyre.txt  \n",
            " extracting: /content/comedies/The Comedy of Errors.txt  \n",
            " extracting: /content/comedies/The Merchant of Venice.txt  \n",
            " extracting: /content/comedies/The Merry Wives of Windsor.txt  \n",
            " extracting: /content/comedies/The Taming of the Shrew.txt  \n",
            " extracting: /content/comedies/The Tempest.txt  \n",
            " extracting: /content/comedies/The Two Gentlemen of Verona.txt  \n",
            " extracting: /content/comedies/The Winter's Tale.txt  \n",
            " extracting: /content/comedies/Troilus and Cressida.txt  \n",
            " extracting: /content/comedies/Twelfth-Night; or What You Will.txt  \n"
          ]
        }
      ]
    },
    {
      "cell_type": "code",
      "metadata": {
        "colab": {
          "base_uri": "https://localhost:8080/",
          "height": 35
        },
        "id": "TgISHVERVx7Z",
        "outputId": "afe63a7a-2d66-4f88-c9bd-8d23fdb1a90f"
      },
      "source": [
        "import os\n",
        "data_path = '/content/comedies/'\n",
        "f\"Total number of texts: {len(os.listdir(data_path))}\""
      ],
      "execution_count": 5,
      "outputs": [
        {
          "output_type": "execute_result",
          "data": {
            "application/vnd.google.colaboratory.intrinsic+json": {
              "type": "string"
            },
            "text/plain": [
              "'Total number of texts: 17'"
            ]
          },
          "metadata": {},
          "execution_count": 5
        }
      ]
    },
    {
      "cell_type": "code",
      "metadata": {
        "colab": {
          "base_uri": "https://localhost:8080/"
        },
        "id": "fDTAkSYCZ-Ua",
        "outputId": "68f96c3e-95b1-470e-ef26-8845baea5bf0"
      },
      "source": [
        "import re\n",
        "\n",
        "rdd_dict = {}\n",
        "stem = '[0-9]*[!@#$%^&*_+=\\-;:,.—<>?\\'\\/\\\\\\ \"()\\[\\]]+'\n",
        "\n",
        "for text in os.listdir(data_path):\n",
        "  text_name = re.sub('[\\', -]+', '', text)\n",
        "  file_path = data_path + text_name\n",
        "  os.rename(data_path + text, file_path) \n",
        "  rdd_dict[text_name] = sc.textFile(file_path)\n",
        "\n",
        "rdd_dict"
      ],
      "execution_count": 6,
      "outputs": [
        {
          "output_type": "execute_result",
          "data": {
            "text/plain": [
              "{'AMidsummerNightsDream.txt': /content/comedies/AMidsummerNightsDream.txt MapPartitionsRDD[17] at textFile at NativeMethodAccessorImpl.java:0,\n",
              " 'AllsWellThatEndsWell.txt': /content/comedies/AllsWellThatEndsWell.txt MapPartitionsRDD[13] at textFile at NativeMethodAccessorImpl.java:0,\n",
              " 'AsYouLikeIt.txt': /content/comedies/AsYouLikeIt.txt MapPartitionsRDD[31] at textFile at NativeMethodAccessorImpl.java:0,\n",
              " 'Cymbeline.txt': /content/comedies/Cymbeline.txt MapPartitionsRDD[33] at textFile at <unknown>:0,\n",
              " 'LovesLaboursLost.txt': /content/comedies/LovesLaboursLost.txt MapPartitionsRDD[29] at textFile at NativeMethodAccessorImpl.java:0,\n",
              " 'MeasureforMeasure.txt': /content/comedies/MeasureforMeasure.txt MapPartitionsRDD[3] at textFile at NativeMethodAccessorImpl.java:0,\n",
              " 'MuchAdoaboutNothing.txt': /content/comedies/MuchAdoaboutNothing.txt MapPartitionsRDD[25] at textFile at NativeMethodAccessorImpl.java:0,\n",
              " 'PericlesPrinceofTyre.txt': /content/comedies/PericlesPrinceofTyre.txt MapPartitionsRDD[27] at textFile at NativeMethodAccessorImpl.java:0,\n",
              " 'TheComedyofErrors.txt': /content/comedies/TheComedyofErrors.txt MapPartitionsRDD[9] at textFile at NativeMethodAccessorImpl.java:0,\n",
              " 'TheMerchantofVenice.txt': /content/comedies/TheMerchantofVenice.txt MapPartitionsRDD[23] at textFile at NativeMethodAccessorImpl.java:0,\n",
              " 'TheMerryWivesofWindsor.txt': /content/comedies/TheMerryWivesofWindsor.txt MapPartitionsRDD[11] at textFile at NativeMethodAccessorImpl.java:0,\n",
              " 'TheTamingoftheShrew.txt': /content/comedies/TheTamingoftheShrew.txt MapPartitionsRDD[5] at textFile at NativeMethodAccessorImpl.java:0,\n",
              " 'TheTempest.txt': /content/comedies/TheTempest.txt MapPartitionsRDD[7] at textFile at NativeMethodAccessorImpl.java:0,\n",
              " 'TheTwoGentlemenofVerona.txt': /content/comedies/TheTwoGentlemenofVerona.txt MapPartitionsRDD[1] at textFile at NativeMethodAccessorImpl.java:0,\n",
              " 'TheWintersTale.txt': /content/comedies/TheWintersTale.txt MapPartitionsRDD[19] at textFile at NativeMethodAccessorImpl.java:0,\n",
              " 'TroilusandCressida.txt': /content/comedies/TroilusandCressida.txt MapPartitionsRDD[15] at textFile at NativeMethodAccessorImpl.java:0,\n",
              " 'TwelfthNight;orWhatYouWill.txt': /content/comedies/TwelfthNight;orWhatYouWill.txt MapPartitionsRDD[21] at textFile at NativeMethodAccessorImpl.java:0}"
            ]
          },
          "metadata": {},
          "execution_count": 6
        }
      ]
    },
    {
      "cell_type": "code",
      "metadata": {
        "colab": {
          "base_uri": "https://localhost:8080/"
        },
        "id": "X-YrMjNubULp",
        "outputId": "4f9f22dc-405d-4867-8d42-173505a56b63"
      },
      "source": [
        "for text in rdd_dict:\n",
        "  print(text, rdd_dict[text].distinct().count()) # number of distinct words"
      ],
      "execution_count": 7,
      "outputs": [
        {
          "output_type": "stream",
          "name": "stdout",
          "text": [
            "TheTwoGentlemenofVerona.txt 2398\n",
            "MeasureforMeasure.txt 2722\n",
            "TheTamingoftheShrew.txt 2965\n",
            "TheTempest.txt 2505\n",
            "TheComedyofErrors.txt 2053\n",
            "TheMerryWivesofWindsor.txt 1928\n",
            "AllsWellThatEndsWell.txt 2655\n",
            "TroilusandCressida.txt 3528\n",
            "AMidsummerNightsDream.txt 2351\n",
            "TheWintersTale.txt 3235\n",
            "TwelfthNight;orWhatYouWill.txt 2160\n",
            "TheMerchantofVenice.txt 2720\n",
            "MuchAdoaboutNothing.txt 2031\n",
            "PericlesPrinceofTyre.txt 2723\n",
            "LovesLaboursLost.txt 2784\n",
            "AsYouLikeIt.txt 2240\n",
            "Cymbeline.txt 3949\n"
          ]
        }
      ]
    },
    {
      "cell_type": "markdown",
      "metadata": {
        "id": "K1GNxVOipVGD"
      },
      "source": [
        "Get number of occurences for each text"
      ]
    },
    {
      "cell_type": "code",
      "metadata": {
        "colab": {
          "base_uri": "https://localhost:8080/"
        },
        "id": "i38kg3wImSZY",
        "outputId": "41710ea5-b866-4116-eac6-531b76770ce6"
      },
      "source": [
        "rdd_occurences = {}\n",
        "\n",
        "for text in rdd_dict:\n",
        "  rdd_dict[text] = rdd_dict[text].map(lambda x: re.sub(stem, \" \", x)).flatMap(lambda x: x.split()).map(lambda x: x.lower()).map(lambda x: (x, 1)) \n",
        "\n",
        "for text in rdd_dict:\n",
        "  rdd_occurences[text] = rdd_dict[text].reduceByKey(lambda x, y: x+y)\n",
        "rdd_occurences['AMidsummerNightsDream.txt'].take(10)"
      ],
      "execution_count": 8,
      "outputs": [
        {
          "output_type": "execute_result",
          "data": {
            "text/plain": [
              "[('shakespeare', 2),\n",
              " ('midsummer', 1),\n",
              " ('night', 51),\n",
              " ('s', 134),\n",
              " ('dream', 15),\n",
              " ('online', 1),\n",
              " ('library', 1),\n",
              " ('of', 268),\n",
              " ('oll', 1),\n",
              " ('libertyfund', 1)]"
            ]
          },
          "metadata": {},
          "execution_count": 8
        }
      ]
    },
    {
      "cell_type": "markdown",
      "metadata": {
        "id": "ckFGLY08KC_P"
      },
      "source": [
        "# More pre-processing: computing TF.IDF\n"
      ]
    },
    {
      "cell_type": "markdown",
      "metadata": {
        "id": "k8yhwnuRpSpc"
      },
      "source": [
        "Compute Term Frequency\n",
        "> Occurence of term w.r.t. the most frequent term in the document"
      ]
    },
    {
      "cell_type": "code",
      "metadata": {
        "colab": {
          "base_uri": "https://localhost:8080/"
        },
        "id": "Fo1B-MPSmn8Q",
        "outputId": "34b7c8a2-e340-43b8-9268-a7867f96ac4d"
      },
      "source": [
        "rdd_tf = {}\n",
        "\n",
        "for text in rdd_occurences:\n",
        "  max_term = rdd_occurences[text].max(lambda x: x[1]) # term with max frequency in the text\n",
        "  rdd_tf[text] = rdd_occurences[text].map(lambda x: (x[0], x[1] / max_term[1]))\n",
        "  print(f'{text} : {rdd_tf[text].count()}')"
      ],
      "execution_count": 9,
      "outputs": [
        {
          "output_type": "stream",
          "name": "stdout",
          "text": [
            "TheTwoGentlemenofVerona.txt : 2661\n",
            "MeasureforMeasure.txt : 3246\n",
            "TheTamingoftheShrew.txt : 3190\n",
            "TheTempest.txt : 3122\n",
            "TheComedyofErrors.txt : 2467\n",
            "TheMerryWivesofWindsor.txt : 3224\n",
            "AllsWellThatEndsWell.txt : 3423\n",
            "TroilusandCressida.txt : 4127\n",
            "AMidsummerNightsDream.txt : 2933\n",
            "TheWintersTale.txt : 3750\n",
            "TwelfthNight;orWhatYouWill.txt : 3063\n",
            "TheMerchantofVenice.txt : 3181\n",
            "MuchAdoaboutNothing.txt : 2921\n",
            "PericlesPrinceofTyre.txt : 3175\n",
            "LovesLaboursLost.txt : 3663\n",
            "AsYouLikeIt.txt : 3199\n",
            "Cymbeline.txt : 4075\n"
          ]
        }
      ]
    },
    {
      "cell_type": "code",
      "metadata": {
        "colab": {
          "base_uri": "https://localhost:8080/"
        },
        "id": "FU3WVEXWT4O4",
        "outputId": "2028a4aa-8827-4057-f226-bc1518ad9322"
      },
      "source": [
        "rdd_tf['AMidsummerNightsDream.txt'].take(5)"
      ],
      "execution_count": 10,
      "outputs": [
        {
          "output_type": "execute_result",
          "data": {
            "text/plain": [
              "[('shakespeare', 0.002068252326783868),\n",
              " ('midsummer', 0.001034126163391934),\n",
              " ('night', 0.052740434332988625),\n",
              " ('s', 0.13857290589451912),\n",
              " ('dream', 0.015511892450879007)]"
            ]
          },
          "metadata": {},
          "execution_count": 10
        }
      ]
    },
    {
      "cell_type": "markdown",
      "metadata": {
        "id": "wtL99cssrAN0"
      },
      "source": [
        "Compute Inverse Document Frequency\n",
        "> For each term, divide the total number of documents by the number of documents that contain that term"
      ]
    },
    {
      "cell_type": "code",
      "metadata": {
        "colab": {
          "base_uri": "https://localhost:8080/"
        },
        "id": "6RRmnL-l0KGT",
        "outputId": "2a90aa09-ffd0-4bcb-fc77-f6defae34327"
      },
      "source": [
        "from math import log \n",
        "N = len(rdd_dict)\n",
        "\n",
        "rdd_idf = sc.emptyRDD()\n",
        "for text in rdd_dict:\n",
        "  rdd_idf = rdd_idf.union(rdd_dict[text].distinct())\n",
        "rdd_idf = rdd_idf.reduceByKey(lambda x,y: x+y).map(lambda x: (x[0], log(N/x[1])))\n",
        "rdd_idf.count()"
      ],
      "execution_count": 11,
      "outputs": [
        {
          "output_type": "execute_result",
          "data": {
            "text/plain": [
              "15845"
            ]
          },
          "metadata": {},
          "execution_count": 11
        }
      ]
    },
    {
      "cell_type": "code",
      "metadata": {
        "colab": {
          "base_uri": "https://localhost:8080/"
        },
        "id": "yfJGF5geWPZw",
        "outputId": "cb5abaad-a9d8-4dc3-c098-782bbe01c0db"
      },
      "source": [
        "rdd_idf.take(5)"
      ],
      "execution_count": 12,
      "outputs": [
        {
          "output_type": "execute_result",
          "data": {
            "text/plain": [
              "[('home', 0.0),\n",
              " ('tender', 0.0),\n",
              " ('rare', 0.26826398659467937),\n",
              " ('happiness', 0.5306282510621704),\n",
              " ('dost', 0.0)]"
            ]
          },
          "metadata": {},
          "execution_count": 12
        }
      ]
    },
    {
      "cell_type": "markdown",
      "metadata": {
        "id": "H_kIdMioB5QS"
      },
      "source": [
        "Finally, compute TF.IDF"
      ]
    },
    {
      "cell_type": "code",
      "metadata": {
        "colab": {
          "base_uri": "https://localhost:8080/"
        },
        "id": "oHk8hG2Sp7rb",
        "outputId": "859b6bfb-4d13-4a4e-b294-877597792019"
      },
      "source": [
        "rdd_tf_idf = {}\n",
        "rdd_tf_idf\n",
        "\n",
        "for text in rdd_tf:\n",
        "  rdd_tf_idf[text] = rdd_tf[text].join(rdd_idf).map(lambda x: (x[0], x[1][0]*x[1][1]))\n",
        "  print(f'{text} : {rdd_tf_idf[text].count()}')"
      ],
      "execution_count": 13,
      "outputs": [
        {
          "output_type": "stream",
          "name": "stdout",
          "text": [
            "TheTwoGentlemenofVerona.txt : 2661\n",
            "MeasureforMeasure.txt : 3246\n",
            "TheTamingoftheShrew.txt : 3190\n",
            "TheTempest.txt : 3122\n",
            "TheComedyofErrors.txt : 2467\n",
            "TheMerryWivesofWindsor.txt : 3224\n",
            "AllsWellThatEndsWell.txt : 3423\n",
            "TroilusandCressida.txt : 4127\n",
            "AMidsummerNightsDream.txt : 2933\n",
            "TheWintersTale.txt : 3750\n",
            "TwelfthNight;orWhatYouWill.txt : 3063\n",
            "TheMerchantofVenice.txt : 3181\n",
            "MuchAdoaboutNothing.txt : 2921\n",
            "PericlesPrinceofTyre.txt : 3175\n",
            "LovesLaboursLost.txt : 3663\n",
            "AsYouLikeIt.txt : 3199\n",
            "Cymbeline.txt : 4075\n"
          ]
        }
      ]
    },
    {
      "cell_type": "code",
      "metadata": {
        "colab": {
          "base_uri": "https://localhost:8080/"
        },
        "id": "3CiM5KUZ0d5a",
        "outputId": "01070995-a78d-4278-ae95-af36d21ced5f"
      },
      "source": [
        "rdd_tf_idf['AMidsummerNightsDream.txt'].takeOrdered(5, key=lambda x: -x[1]) # most important words in AMidsummerNightsDream.txt"
      ],
      "execution_count": 14,
      "outputs": [
        {
          "output_type": "execute_result",
          "data": {
            "text/plain": [
              "[('lysander', 0.4453448069250722),\n",
              " ('demetrius', 0.4365551067883932),\n",
              " ('hermia', 0.4365551067883932),\n",
              " ('quince', 0.27834050432817015),\n",
              " ('theseus', 0.24786702203886488)]"
            ]
          },
          "metadata": {},
          "execution_count": 14
        }
      ]
    },
    {
      "cell_type": "markdown",
      "metadata": {
        "id": "BreJDJuDGucQ"
      },
      "source": [
        "## Remove unimportant words"
      ]
    },
    {
      "cell_type": "code",
      "metadata": {
        "colab": {
          "base_uri": "https://localhost:8080/"
        },
        "id": "TR9Ycw-WDbUs",
        "outputId": "e67f7ed1-5b4e-47fb-c0f6-82ca67226789"
      },
      "source": [
        "importance_ = 0.01 # default 0.001\n",
        "\n",
        "clean_rdd = {}\n",
        "for text in rdd_tf_idf:\n",
        "  clean_rdd[text] = rdd_occurences[text].join(rdd_tf_idf[text]).filter(lambda x: x[1][1] > importance_).map(lambda x: (x[0], x[1][0])) # keep the words with index > importance_\n",
        "  print(f\"From {text} we kept the {round((clean_rdd[text].count() / rdd_tf_idf[text].count()) * 100, 3)}% of the words, for a remaining total of {clean_rdd[text].count()} words\")"
      ],
      "execution_count": 15,
      "outputs": [
        {
          "output_type": "stream",
          "name": "stdout",
          "text": [
            "From TheTwoGentlemenofVerona.txt we kept the 0.827% of the words, for a remaining total of 22 words\n",
            "From MeasureforMeasure.txt we kept the 0.955% of the words, for a remaining total of 31 words\n",
            "From TheTamingoftheShrew.txt we kept the 1.254% of the words, for a remaining total of 40 words\n",
            "From TheTempest.txt we kept the 1.153% of the words, for a remaining total of 36 words\n",
            "From TheComedyofErrors.txt we kept the 1.419% of the words, for a remaining total of 35 words\n",
            "From TheMerryWivesofWindsor.txt we kept the 1.954% of the words, for a remaining total of 63 words\n",
            "From AllsWellThatEndsWell.txt we kept the 0.935% of the words, for a remaining total of 32 words\n",
            "From TroilusandCressida.txt we kept the 1.357% of the words, for a remaining total of 56 words\n",
            "From AMidsummerNightsDream.txt we kept the 1.5% of the words, for a remaining total of 44 words\n",
            "From TheWintersTale.txt we kept the 0.907% of the words, for a remaining total of 34 words\n",
            "From TwelfthNight;orWhatYouWill.txt we kept the 1.045% of the words, for a remaining total of 32 words\n",
            "From TheMerchantofVenice.txt we kept the 1.289% of the words, for a remaining total of 41 words\n",
            "From MuchAdoaboutNothing.txt we kept the 1.096% of the words, for a remaining total of 32 words\n",
            "From PericlesPrinceofTyre.txt we kept the 1.291% of the words, for a remaining total of 41 words\n",
            "From LovesLaboursLost.txt we kept the 1.256% of the words, for a remaining total of 46 words\n",
            "From AsYouLikeIt.txt we kept the 1.282% of the words, for a remaining total of 41 words\n",
            "From Cymbeline.txt we kept the 1.301% of the words, for a remaining total of 53 words\n"
          ]
        }
      ]
    },
    {
      "cell_type": "code",
      "metadata": {
        "colab": {
          "base_uri": "https://localhost:8080/"
        },
        "id": "4Uf7oWtIbf0k",
        "outputId": "cab8fff8-d247-449c-9105-b602c3ead8b0"
      },
      "source": [
        "clean_rdd['AMidsummerNightsDream.txt'].first() # most important words in AMidsummerNightsDream.txt AND their occurences in the text"
      ],
      "execution_count": 16,
      "outputs": [
        {
          "output_type": "execute_result",
          "data": {
            "text/plain": [
              "('egeus', 23)"
            ]
          },
          "metadata": {},
          "execution_count": 16
        }
      ]
    },
    {
      "cell_type": "markdown",
      "metadata": {
        "id": "0lSWs6Eeb4dh"
      },
      "source": [
        "# Get matrix of occurences \n",
        "\n",
        "Take a unique RDD for all the terms that appear in the collection of comedies. \n",
        "1. fullOuterJoin every text RDD with occurences of the words to get a RDD of all the important words\n",
        "2. because the join creates nested tuples, flatten the results to a list"
      ]
    },
    {
      "cell_type": "code",
      "metadata": {
        "colab": {
          "base_uri": "https://localhost:8080/"
        },
        "id": "x_f9gz5cSDUP",
        "outputId": "661db3e7-7948-4eff-fd2d-5fbf5d67fd04"
      },
      "source": [
        "def get_cosine_rdd(clean_rdd):\n",
        "  cosine_rdd = sc.emptyRDD()\n",
        "  for text in clean_rdd:\n",
        "      cosine_rdd = cosine_rdd.fullOuterJoin(clean_rdd[text]) # if we want the occurences instead of the term presence\n",
        "  return cosine_rdd\n",
        "\n",
        "def flatten(term_occ):\n",
        "    output = []\n",
        "    for occ in term_occ:\n",
        "        output += flatten(occ) if isinstance(occ, tuple) else [int(occ or 0)] \n",
        "    return output\n",
        "find_candidates = get_cosine_rdd(clean_rdd).map(lambda x: (x[0], flatten(x[1])))\n",
        "find_candidates.count()"
      ],
      "execution_count": 17,
      "outputs": [
        {
          "output_type": "execute_result",
          "data": {
            "text/plain": [
              "620"
            ]
          },
          "metadata": {},
          "execution_count": 17
        }
      ]
    },
    {
      "cell_type": "code",
      "metadata": {
        "colab": {
          "base_uri": "https://localhost:8080/"
        },
        "id": "bvYzoXKZZgsl",
        "outputId": "3e4a805f-3d0c-4996-bec0-f20aed4c6a3b"
      },
      "source": [
        "find_candidates.take(3)"
      ],
      "execution_count": 18,
      "outputs": [
        {
          "output_type": "execute_result",
          "data": {
            "text/plain": [
              "[('herne', [0, 11, 0, 0, 0, 0, 0, 0, 0, 0, 0, 0, 0]),\n",
              " ('queen', [0, 55, 0, 0, 0, 0, 0, 0, 93]),\n",
              " ('awaking', [0, 6, 0, 0, 0, 0, 0, 0, 0, 0])]"
            ]
          },
          "metadata": {},
          "execution_count": 18
        }
      ]
    },
    {
      "cell_type": "markdown",
      "metadata": {
        "id": "p8uoKKHDIlSX"
      },
      "source": [
        "## Histogram"
      ]
    },
    {
      "cell_type": "markdown",
      "metadata": {
        "id": "RLF94q5NfoOA"
      },
      "source": [
        "A histogram is computed on numerical data, in our case we compute it on the number of occurrences, so that we get the distribution of occurences divided into N bins. Each bin contains the number of values that fall into that numerical interval.\n",
        "\n",
        "The default histogram function of PySpark: "
      ]
    },
    {
      "cell_type": "code",
      "metadata": {
        "colab": {
          "base_uri": "https://localhost:8080/"
        },
        "id": "eI-D7UuMhPt6",
        "outputId": "2b9999a8-4121-4b0e-e829-80b1df0622d0"
      },
      "source": [
        "%%time\n",
        "N = 5\n",
        "print(find_candidates.map(lambda x : x[1]).map(lambda x : sum(x)).histogram(N))"
      ],
      "execution_count": 19,
      "outputs": [
        {
          "output_type": "stream",
          "name": "stdout",
          "text": [
            "([4.0, 197.6, 391.2, 584.8, 778.4, 972], [565, 45, 9, 0, 1])\n",
            "CPU times: user 247 ms, sys: 58.7 ms, total: 306 ms\n",
            "Wall time: 17.4 s\n"
          ]
        }
      ]
    },
    {
      "cell_type": "markdown",
      "metadata": {
        "id": "B6xBiPNtijdU"
      },
      "source": [
        "### My implementation:\n",
        "\n",
        "1. First implementation: is faster if the data is little\n",
        "2. Second implementation: it takes approx. the same time as the built-in histogram function, and it is distributed using accumulators as counters for the bins\n",
        "\n",
        "N.B: the upper limit on the bins is not included in the interval. \n",
        "\n",
        "**TODO: only the last (max) occurence is not included in the overall computation, so its value gets lost**"
      ]
    },
    {
      "cell_type": "code",
      "metadata": {
        "colab": {
          "base_uri": "https://localhost:8080/"
        },
        "id": "h4j6jyVSvgT3",
        "outputId": "8b4208a5-c19d-442e-dc69-70dd95b0d7ce"
      },
      "source": [
        "%%time\n",
        "rdd_f = find_candidates.map(lambda x : x[1]).map(lambda x : sum(x)) # sum all occurences across all texts\n",
        "occ = rdd_f.collect() # PROBLEM!\n",
        "MAX = max(occ) \n",
        "bins = {((i-1)*MAX//N, i*MAX//N):0 for i in range(1,N+1)} # Create N even intervals\n",
        "\n",
        "for v in occ:\n",
        "  for b in bins:\n",
        "    if v in range(b[0],b[1]):\n",
        "      bins[b]+=1\n",
        "print(bins) "
      ],
      "execution_count": 20,
      "outputs": [
        {
          "output_type": "stream",
          "name": "stdout",
          "text": [
            "{(0, 194): 562, (194, 388): 47, (388, 583): 10, (583, 777): 0, (777, 972): 0}\n",
            "CPU times: user 128 ms, sys: 23.1 ms, total: 151 ms\n",
            "Wall time: 8.57 s\n"
          ]
        }
      ]
    },
    {
      "cell_type": "code",
      "metadata": {
        "colab": {
          "base_uri": "https://localhost:8080/"
        },
        "id": "O_pl_dxUzCdg",
        "outputId": "da8809d9-0fa1-4181-d2ff-eb8d05e4974e"
      },
      "source": [
        "%%time\n",
        "rdd_f = find_candidates.map(lambda x : x[1]).map(lambda x : sum(x)) # sum all occurences across all texts\n",
        "MAX = rdd_f.max() \n",
        "bins = {((i-1)*MAX//N, i*MAX//N):sc.accumulator(0) for i in range(1,N+1)} # Create N even intervals\n",
        "\n",
        "def in_bins(x):\n",
        "  print(x)\n",
        "  for b in bins:\n",
        "    if x in range(b[0],b[1]):\n",
        "      bins[b] += 1\n",
        "  return\n",
        "\n",
        "rdd_f.map(in_bins).count()\n",
        "\n",
        "print(bins)  "
      ],
      "execution_count": 21,
      "outputs": [
        {
          "output_type": "stream",
          "name": "stdout",
          "text": [
            "{(0, 194): Accumulator<id=0, value=562>, (194, 388): Accumulator<id=1, value=47>, (388, 583): Accumulator<id=2, value=10>, (583, 777): Accumulator<id=3, value=0>, (777, 972): Accumulator<id=4, value=0>}\n",
            "CPU times: user 294 ms, sys: 48.6 ms, total: 342 ms\n",
            "Wall time: 18.2 s\n"
          ]
        }
      ]
    },
    {
      "cell_type": "markdown",
      "metadata": {
        "id": "eHdkfby9hQcB"
      },
      "source": [
        "### Visualizing the most frequent words in all comedies via a plot"
      ]
    },
    {
      "cell_type": "code",
      "metadata": {
        "colab": {
          "base_uri": "https://localhost:8080/"
        },
        "id": "DkZlnia6gf4j",
        "outputId": "f7076d0a-21aa-4745-ef6d-64dba6b19055"
      },
      "source": [
        "for_histogrom_rdd = find_candidates.map(lambda x: (x[0], sum(x[1]))).sortBy(lambda x: x[1], ascending=False)\n",
        "for_histogrom_rdd.first()"
      ],
      "execution_count": 22,
      "outputs": [
        {
          "output_type": "execute_result",
          "data": {
            "text/plain": [
              "('duke', 972)"
            ]
          },
          "metadata": {},
          "execution_count": 22
        }
      ]
    },
    {
      "cell_type": "code",
      "metadata": {
        "colab": {
          "base_uri": "https://localhost:8080/",
          "height": 832
        },
        "id": "SjmmgFc2IsK1",
        "outputId": "42681fa8-8fe9-49c4-85f4-7b7b35ffdac6"
      },
      "source": [
        "import matplotlib.pyplot as plt\n",
        "from matplotlib.pyplot import figure\n",
        "\n",
        "data = for_histogrom_rdd.map(lambda x: x[0]).take(100)\n",
        "labels = for_histogrom_rdd.map(lambda x: x[1]).take(100)\n",
        "\n",
        "figure(figsize=(15, 6), dpi=150)\n",
        "plt.bar(range(len(labels)), labels)\n",
        "plt.xticks(range(len(data)), data, rotation='vertical', size='small')\n",
        "plt.show()"
      ],
      "execution_count": 23,
      "outputs": [
        {
          "output_type": "display_data",
          "data": {
            "image/png": "[encoded data removed]",
            "text/plain": [
              "<Figure size 2250x900 with 1 Axes>"
            ]
          },
          "metadata": {
            "needs_background": "light"
          }
        }
      ]
    },
    {
      "cell_type": "markdown",
      "metadata": {
        "id": "5G9jtfoFIe-7"
      },
      "source": [
        "## Computing the cosine similarity\n"
      ]
    },
    {
      "cell_type": "markdown",
      "metadata": {
        "id": "CaxQhcLu7lmf"
      },
      "source": [
        "1. I need the term presence in the document, rather that the number of occurences. \n",
        "2. My rows are not made of 17 numbers. **SUPER IMPORTANT!**\n",
        "2. Compute the similarity only for the non-zero rows"
      ]
    },
    {
      "cell_type": "code",
      "metadata": {
        "id": "75KNRz-AjWw6"
      },
      "source": [
        ""
      ],
      "execution_count": 23,
      "outputs": []
    }
  ]
}