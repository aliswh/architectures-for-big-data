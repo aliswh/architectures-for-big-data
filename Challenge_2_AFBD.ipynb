{
  "nbformat": 4,
  "nbformat_minor": 0,
  "metadata": {
    "colab": {
      "name": "Challenge-2_AFBD.ipynb",
      "provenance": [],
      "collapsed_sections": [
        "AuMNWouAx6u1",
        "ugXeuovGUbFe",
        "BFKWHAn5kR5o",
        "ckFGLY08KC_P",
        "6nHUJ0tLN3nH"
      ]
    },
    "kernelspec": {
      "display_name": "Python 3",
      "name": "python3"
    },
    "language_info": {
      "name": "python"
    }
  },
  "cells": [
    {
      "cell_type": "markdown",
      "metadata": {
        "id": "Uc1D5cUyIsmd"
      },
      "source": [
        "# **Challenge 2, due 22/11/21**\n",
        "\n",
        "Students: Alice Schiavone, Davide D'Ascenzo"
      ]
    },
    {
      "cell_type": "markdown",
      "metadata": {
        "id": "AuMNWouAx6u1"
      },
      "source": [
        "# Env Set up"
      ]
    },
    {
      "cell_type": "code",
      "metadata": {
        "id": "IFH9zQGdta1S",
        "colab": {
          "base_uri": "https://localhost:8080/"
        },
        "outputId": "6105cdf6-1160-4dcb-9dbc-d51f4864e829"
      },
      "source": [
        "!apt-get install openjdk-8-jdk-headless -qq > /dev/null\n",
        "!pip install pyspark\n",
        "!pip install -q findspark\n",
        "!pip show pyspark\n",
        "!pip install memory_profiler\n",
        "%load_ext memory_profiler"
      ],
      "execution_count": 1,
      "outputs": [
        {
          "output_type": "stream",
          "name": "stdout",
          "text": [
            "Collecting pyspark\n",
            "  Downloading pyspark-3.2.0.tar.gz (281.3 MB)\n",
            "\u001b[K     |████████████████████████████████| 281.3 MB 41 kB/s \n",
            "\u001b[?25hCollecting py4j==0.10.9.2\n",
            "  Downloading py4j-0.10.9.2-py2.py3-none-any.whl (198 kB)\n",
            "\u001b[K     |████████████████████████████████| 198 kB 46.0 MB/s \n",
            "\u001b[?25hBuilding wheels for collected packages: pyspark\n",
            "  Building wheel for pyspark (setup.py) ... \u001b[?25l\u001b[?25hdone\n",
            "  Created wheel for pyspark: filename=pyspark-3.2.0-py2.py3-none-any.whl size=281805912 sha256=66a78851cc750a8ebd2890522c4a9d8b9988a6047d7c665930536804138bb3df\n",
            "  Stored in directory: /root/.cache/pip/wheels/0b/de/d2/9be5d59d7331c6c2a7c1b6d1a4f463ce107332b1ecd4e80718\n",
            "Successfully built pyspark\n",
            "Installing collected packages: py4j, pyspark\n",
            "Successfully installed py4j-0.10.9.2 pyspark-3.2.0\n",
            "Name: pyspark\n",
            "Version: 3.2.0\n",
            "Summary: Apache Spark Python API\n",
            "Home-page: https://github.com/apache/spark/tree/master/python\n",
            "Author: Spark Developers\n",
            "Author-email: dev@spark.apache.org\n",
            "License: http://www.apache.org/licenses/LICENSE-2.0\n",
            "Location: /usr/local/lib/python3.7/dist-packages\n",
            "Requires: py4j\n",
            "Required-by: \n",
            "Collecting memory_profiler\n",
            "  Downloading memory_profiler-0.58.0.tar.gz (36 kB)\n",
            "Requirement already satisfied: psutil in /usr/local/lib/python3.7/dist-packages (from memory_profiler) (5.4.8)\n",
            "Building wheels for collected packages: memory-profiler\n",
            "  Building wheel for memory-profiler (setup.py) ... \u001b[?25l\u001b[?25hdone\n",
            "  Created wheel for memory-profiler: filename=memory_profiler-0.58.0-py3-none-any.whl size=30190 sha256=dae218dd4bcb9bab4ac65a2e873c69ccd028869a4e6de69058557f4299311964\n",
            "  Stored in directory: /root/.cache/pip/wheels/56/19/d5/8cad06661aec65a04a0d6785b1a5ad035cb645b1772a4a0882\n",
            "Successfully built memory-profiler\n",
            "Installing collected packages: memory-profiler\n",
            "Successfully installed memory-profiler-0.58.0\n"
          ]
        }
      ]
    },
    {
      "cell_type": "code",
      "metadata": {
        "colab": {
          "base_uri": "https://localhost:8080/",
          "height": 0
        },
        "id": "uC4UOqUPthsv",
        "outputId": "b9eac219-3f19-4f10-b4a5-95df3b551c18"
      },
      "source": [
        "import os\n",
        "os.environ[\"JAVA_HOME\"] = \"/usr/lib/jvm/java-8-openjdk-amd64\"\n",
        "os.environ[\"SPARK_HOME\"] = \"/usr/local/lib/python3.7/dist-packages/pyspark\"\n",
        "\n",
        "import pyspark\n",
        "sc = pyspark.SparkContext(\"local[*]\").getOrCreate()\n",
        "sc"
      ],
      "execution_count": 2,
      "outputs": [
        {
          "output_type": "execute_result",
          "data": {
            "text/html": [
              "\n",
              "        <div>\n",
              "            <p><b>SparkContext</b></p>\n",
              "\n",
              "            <p><a href=\"http://583b3cc02eda:4040\">Spark UI</a></p>\n",
              "\n",
              "            <dl>\n",
              "              <dt>Version</dt>\n",
              "                <dd><code>v3.2.0</code></dd>\n",
              "              <dt>Master</dt>\n",
              "                <dd><code>local[*]</code></dd>\n",
              "              <dt>AppName</dt>\n",
              "                <dd><code>pyspark-shell</code></dd>\n",
              "            </dl>\n",
              "        </div>\n",
              "        "
            ],
            "text/plain": [
              "<SparkContext master=local[*] appName=pyspark-shell>"
            ]
          },
          "metadata": {},
          "execution_count": 2
        }
      ]
    },
    {
      "cell_type": "code",
      "metadata": {
        "id": "Ez3Ct5xrAvFV"
      },
      "source": [
        "import findspark\n",
        "findspark.init()"
      ],
      "execution_count": 3,
      "outputs": []
    },
    {
      "cell_type": "markdown",
      "metadata": {
        "id": "ugXeuovGUbFe"
      },
      "source": [
        "# Text Choice and Pre-processing 📜\n",
        "I will compute the similarities between [Shakespeare works](http://shakespeare.mit.edu/). \n",
        "\n",
        "\n",
        "\n"
      ]
    },
    {
      "cell_type": "code",
      "metadata": {
        "colab": {
          "base_uri": "https://localhost:8080/"
        },
        "id": "NGZhmvqNVqg0",
        "outputId": "e1684e58-8b5b-48c2-dc4c-657ee3f92fbd"
      },
      "source": [
        "!wget https://github.com/aliswh/architectures-for-big-data/raw/main/data/shakespeare.zip\n",
        "!mkdir /content/shakespeare\n",
        "!unzip /content/shakespeare.zip -d /content/shakespeare"
      ],
      "execution_count": 4,
      "outputs": [
        {
          "output_type": "stream",
          "name": "stdout",
          "text": [
            "--2021-11-20 12:50:46--  https://github.com/aliswh/architectures-for-big-data/raw/main/data/shakespeare.zip\n",
            "Resolving github.com (github.com)... 140.82.113.4\n",
            "Connecting to github.com (github.com)|140.82.113.4|:443... connected.\n",
            "HTTP request sent, awaiting response... 302 Found\n",
            "Location: https://raw.githubusercontent.com/aliswh/architectures-for-big-data/main/data/shakespeare.zip [following]\n",
            "--2021-11-20 12:50:46--  https://raw.githubusercontent.com/aliswh/architectures-for-big-data/main/data/shakespeare.zip\n",
            "Resolving raw.githubusercontent.com (raw.githubusercontent.com)... 185.199.108.133, 185.199.109.133, 185.199.110.133, ...\n",
            "Connecting to raw.githubusercontent.com (raw.githubusercontent.com)|185.199.108.133|:443... connected.\n",
            "HTTP request sent, awaiting response... 200 OK\n",
            "Length: 2137820 (2.0M) [application/zip]\n",
            "Saving to: ‘shakespeare.zip’\n",
            "\n",
            "shakespeare.zip     100%[===================>]   2.04M  --.-KB/s    in 0.06s   \n",
            "\n",
            "2021-11-20 12:50:46 (32.0 MB/s) - ‘shakespeare.zip’ saved [2137820/2137820]\n",
            "\n",
            "Archive:  /content/shakespeare.zip\n",
            "  inflating: /content/shakespeare/A Midsummer-Night's Dream.txt  \n",
            "  inflating: /content/shakespeare/All's Well That Ends Well.txt  \n",
            "  inflating: /content/shakespeare/Anthony and Cleopatra.txt  \n",
            "  inflating: /content/shakespeare/As You Like It.txt  \n",
            "  inflating: /content/shakespeare/Coriolanus.txt  \n",
            "  inflating: /content/shakespeare/Cymbeline.txt  \n",
            "  inflating: /content/shakespeare/Hamlet, Prince of Denmark.txt  \n",
            "  inflating: /content/shakespeare/Julius Caesar.txt  \n",
            "  inflating: /content/shakespeare/King Lear.txt  \n",
            "  inflating: /content/shakespeare/Love's Labour's Lost.txt  \n",
            "  inflating: /content/shakespeare/Macbeth.txt  \n",
            "  inflating: /content/shakespeare/Measure for Measure.txt  \n",
            "  inflating: /content/shakespeare/Much Ado about Nothing.txt  \n",
            "  inflating: /content/shakespeare/Othello, the Moor of Venice.txt  \n",
            "  inflating: /content/shakespeare/Pericles, Prince of Tyre.txt  \n",
            "  inflating: /content/shakespeare/Romeo And Juliet.txt  \n",
            "  inflating: /content/shakespeare/The Comedy of Errors.txt  \n",
            "  inflating: /content/shakespeare/The Famous History of the Life of King Henry VIII.txt  \n",
            "  inflating: /content/shakespeare/The First Part of King Henry IV.txt  \n",
            "  inflating: /content/shakespeare/The First Part of King Henry VI.txt  \n",
            "  inflating: /content/shakespeare/The Life and Death of King John.txt  \n",
            "  inflating: /content/shakespeare/The Life of King Henry V.txt  \n",
            "  inflating: /content/shakespeare/The Merchant of Venice.txt  \n",
            "  inflating: /content/shakespeare/The Merry Wives of Windsor.txt  \n",
            "  inflating: /content/shakespeare/The Second Part of King Henry IV.txt  \n",
            "  inflating: /content/shakespeare/The Second Part of King Henry VI.txt  \n",
            "  inflating: /content/shakespeare/The Taming of the Shrew.txt  \n",
            "  inflating: /content/shakespeare/The Tempest.txt  \n",
            "  inflating: /content/shakespeare/The Third Part of King Henry VI.txt  \n",
            "  inflating: /content/shakespeare/The Tragedy of King Richard II.txt  \n",
            "  inflating: /content/shakespeare/The Tragedy of King Richard III.txt  \n",
            "  inflating: /content/shakespeare/The Two Gentlemen of Verona.txt  \n",
            "  inflating: /content/shakespeare/The Winter's Tale.txt  \n",
            "  inflating: /content/shakespeare/Timon of Athens.txt  \n",
            "  inflating: /content/shakespeare/Titus Andronicus.txt  \n",
            "  inflating: /content/shakespeare/Troilus and Cressida.txt  \n",
            "  inflating: /content/shakespeare/Twelfth-Night; or What You Will.txt  \n"
          ]
        }
      ]
    },
    {
      "cell_type": "code",
      "metadata": {
        "colab": {
          "base_uri": "https://localhost:8080/",
          "height": 0
        },
        "id": "TgISHVERVx7Z",
        "outputId": "7297db9a-e5ff-49e9-92ed-f958d8f9ca33"
      },
      "source": [
        "import os\n",
        "data_path = '/content/shakespeare/'\n",
        "f\"Total number of texts: {len(os.listdir(data_path))}\""
      ],
      "execution_count": 5,
      "outputs": [
        {
          "output_type": "execute_result",
          "data": {
            "application/vnd.google.colaboratory.intrinsic+json": {
              "type": "string"
            },
            "text/plain": [
              "'Total number of texts: 37'"
            ]
          },
          "metadata": {},
          "execution_count": 5
        }
      ]
    },
    {
      "cell_type": "code",
      "metadata": {
        "id": "fDTAkSYCZ-Ua",
        "colab": {
          "base_uri": "https://localhost:8080/"
        },
        "outputId": "2dfce321-9c17-46a2-947c-b01d5b9a70a5"
      },
      "source": [
        "import re\n",
        "\n",
        "stem = '[0-9]*[!@#$%^&*_+=\\-;:,.—<>?\\'\\/\\\\\\ \"()\\[\\]]+'\n",
        "\n",
        "for text in os.listdir(data_path):\n",
        "  text_name = re.sub(stem, '', text)\n",
        "  file_path = data_path + text_name\n",
        "  os.rename(data_path + text, file_path) \n",
        "\n",
        "rdd_texts = sc.wholeTextFiles(data_path) # create RDD\n",
        "\n",
        "def rename_texts(x):\n",
        "  return re.sub('file:'+data_path, '', x)\n",
        "def clean_text(x):\n",
        "  return re.sub(stem, ' ', x).lower()\n",
        "\n",
        "rdd_texts = rdd_texts.map(lambda x: (rename_texts(x[0]), clean_text(x[1]) ) )\\\n",
        "                     .map(lambda x: (x[0], x[1].split()))\n",
        "rdd_texts.count()"
      ],
      "execution_count": 6,
      "outputs": [
        {
          "output_type": "execute_result",
          "data": {
            "text/plain": [
              "37"
            ]
          },
          "metadata": {},
          "execution_count": 6
        }
      ]
    },
    {
      "cell_type": "markdown",
      "metadata": {
        "id": "gD5SjIHvjmo_"
      },
      "source": [
        "# Solution"
      ]
    },
    {
      "cell_type": "markdown",
      "metadata": {
        "id": "K1GNxVOipVGD"
      },
      "source": [
        "## Histogram ⭐"
      ]
    },
    {
      "cell_type": "code",
      "metadata": {
        "colab": {
          "base_uri": "https://localhost:8080/"
        },
        "id": "i38kg3wImSZY",
        "outputId": "73d51507-26f8-4f23-d9bb-ad9a27dd3a3b"
      },
      "source": [
        "rdd_occurences = rdd_texts.flatMap(lambda x: [((x[0],y),1) for y in x[1]])\n",
        "rdd_occurences.take(3)"
      ],
      "execution_count": 7,
      "outputs": [
        {
          "output_type": "execute_result",
          "data": {
            "text/plain": [
              "[(('TimonofAthenstxt', 'shakespeare'), 1),\n",
              " (('TimonofAthenstxt', 'timon'), 1),\n",
              " (('TimonofAthenstxt', 'of'), 1)]"
            ]
          },
          "metadata": {},
          "execution_count": 7
        }
      ]
    },
    {
      "cell_type": "code",
      "metadata": {
        "colab": {
          "base_uri": "https://localhost:8080/"
        },
        "id": "oPCtVRcTr8iN",
        "outputId": "d68137d7-0ccb-414c-eee7-4560e64653d2"
      },
      "source": [
        "rdd_occurences = rdd_texts.flatMapValues(lambda x: x).map(lambda x: (x,1)) # alternative\n",
        "rdd_occurences.take(3)"
      ],
      "execution_count": 8,
      "outputs": [
        {
          "output_type": "execute_result",
          "data": {
            "text/plain": [
              "[(('TimonofAthenstxt', 'shakespeare'), 1),\n",
              " (('TimonofAthenstxt', 'timon'), 1),\n",
              " (('TimonofAthenstxt', 'of'), 1)]"
            ]
          },
          "metadata": {},
          "execution_count": 8
        }
      ]
    },
    {
      "cell_type": "code",
      "metadata": {
        "colab": {
          "base_uri": "https://localhost:8080/"
        },
        "id": "Iav0_f74s992",
        "outputId": "48828535-cbc6-4bb1-afd5-a67c5db7f332"
      },
      "source": [
        "rdd_hist = rdd_occurences.reduceByKey(lambda x,y: x+y)\n",
        "rdd_hist.take(3)"
      ],
      "execution_count": 9,
      "outputs": [
        {
          "output_type": "execute_result",
          "data": {
            "text/plain": [
              "[(('TimonofAthenstxt', 'shakespeare'), 2),\n",
              " (('TimonofAthenstxt', 'of'), 329),\n",
              " (('TimonofAthenstxt', 'online'), 1)]"
            ]
          },
          "metadata": {},
          "execution_count": 9
        }
      ]
    },
    {
      "cell_type": "markdown",
      "metadata": {
        "id": "BFKWHAn5kR5o"
      },
      "source": [
        "## Visual histogram"
      ]
    },
    {
      "cell_type": "code",
      "metadata": {
        "colab": {
          "base_uri": "https://localhost:8080/"
        },
        "id": "qxK4UksAkT0O",
        "outputId": "4f88f0f4-034a-4d56-b29a-e517e421dac7"
      },
      "source": [
        "N = 5\n",
        "print(rdd_hist.map(lambda x : x[1]).histogram(N)) # pyspark implementation"
      ],
      "execution_count": 10,
      "outputs": [
        {
          "output_type": "stream",
          "name": "stdout",
          "text": [
            "([1.0, 231.2, 461.4, 691.5999999999999, 921.8, 1152], [128727, 476, 131, 49, 12])\n"
          ]
        }
      ]
    },
    {
      "cell_type": "code",
      "metadata": {
        "colab": {
          "base_uri": "https://localhost:8080/"
        },
        "id": "rwJrueSzKQGF",
        "outputId": "efa80959-4739-4617-b04a-6ca13c11bb16"
      },
      "source": [
        "MAX = rdd_hist.map(lambda x : x[1]).max() + 1 \n",
        "bins = {((i-1)*MAX//N, i*MAX//N):0 for i in range(1,N+1)} # Create N even intervals\n",
        "\n",
        "sorted(rdd_hist.map(lambda x: [b for b in bins if x[1] in range (b[0],b[1]) ]).map(lambda x: (x[0],1)).reduceByKey(lambda x,y: x+y).collect())"
      ],
      "execution_count": 11,
      "outputs": [
        {
          "output_type": "execute_result",
          "data": {
            "text/plain": [
              "[((0, 230), 128718),\n",
              " ((230, 461), 484),\n",
              " ((461, 691), 131),\n",
              " ((691, 922), 50),\n",
              " ((922, 1153), 12)]"
            ]
          },
          "metadata": {},
          "execution_count": 11
        }
      ]
    },
    {
      "cell_type": "code",
      "metadata": {
        "colab": {
          "base_uri": "https://localhost:8080/",
          "height": 759
        },
        "id": "k59csBd2qEPo",
        "outputId": "6e0e453f-57de-478c-dfa9-3fd5d4486e93"
      },
      "source": [
        "import matplotlib.pyplot as plt\n",
        "from matplotlib.pyplot import figure\n",
        "\n",
        "for_histogram_rdd = rdd_hist.sortBy(lambda x: x[1], ascending=False)\n",
        "print(f\"Most frequent word in a text: {for_histogram_rdd.first()}\") # just to check if the plot is correct\n",
        "\n",
        "data = for_histogram_rdd.map(lambda x: x[0]).take(100)\n",
        "labels = for_histogram_rdd.map(lambda x: x[1]).take(100)\n",
        "\n",
        "figure(figsize=(15, 5), dpi=100)\n",
        "plt.bar(range(len(labels)), labels)\n",
        "plt.xticks(range(len(data)), data, rotation='vertical', size='small')\n",
        "plt.show()"
      ],
      "execution_count": 12,
      "outputs": [
        {
          "output_type": "stream",
          "name": "stdout",
          "text": [
            "Most frequent word in a text: (('HamletPrinceofDenmarktxt', 'the'), 1152)\n"
          ]
        },
        {
          "output_type": "display_data",
          "data": {
            "image/png": "[encoded data removed]",
            "text/plain": [
              "<Figure size 1500x500 with 1 Axes>"
            ]
          },
          "metadata": {
            "needs_background": "light"
          }
        }
      ]
    },
    {
      "cell_type": "markdown",
      "metadata": {
        "id": "ckFGLY08KC_P"
      },
      "source": [
        "## More pre-processing: computing TF.IDF\n"
      ]
    },
    {
      "cell_type": "markdown",
      "metadata": {
        "id": "k8yhwnuRpSpc"
      },
      "source": [
        "Term Frequency\n",
        "> Occurence of term w.r.t. the most frequent term in the document"
      ]
    },
    {
      "cell_type": "code",
      "metadata": {
        "colab": {
          "base_uri": "https://localhost:8080/"
        },
        "id": "N6EC8Gl3iucw",
        "outputId": "3c468b04-d20b-47e7-bdc0-e0e8b1fe06c5"
      },
      "source": [
        "max_rdd = rdd_hist.map(lambda x: (x[0][0], x[1] ) ).reduceByKey(lambda x,y: max(x,y))\n",
        "max_rdd.take(10)"
      ],
      "execution_count": 13,
      "outputs": [
        {
          "output_type": "execute_result",
          "data": {
            "text/plain": [
              "[('TimonofAthenstxt', 548),\n",
              " ('TroilusandCressidatxt', 847),\n",
              " ('TheThirdPartofKingHenryVItxt', 942),\n",
              " ('Coriolanustxt', 1118),\n",
              " ('MuchAdoaboutNothingtxt', 721),\n",
              " ('AnthonyandCleopatratxt', 879),\n",
              " ('HamletPrinceofDenmarktxt', 1152),\n",
              " ('TheWintersTaletxt', 873),\n",
              " ('TheSecondPartofKingHenryIVtxt', 1004),\n",
              " ('TheLifeofKingHenryVtxt', 1083)]"
            ]
          },
          "metadata": {},
          "execution_count": 13
        }
      ]
    },
    {
      "cell_type": "code",
      "metadata": {
        "colab": {
          "base_uri": "https://localhost:8080/"
        },
        "id": "8hhZKgtfje15",
        "outputId": "cef2f4f2-4675-4584-fbcb-24761f0aaed5"
      },
      "source": [
        "tf_rdd = rdd_hist.map(lambda x: (x[0][0], (x[0][1], x[1]))).join(max_rdd).mapValues(lambda x:  (x[0][0], x[0][1] / x[1] ))\n",
        "tf_rdd.take(10)"
      ],
      "execution_count": 14,
      "outputs": [
        {
          "output_type": "execute_result",
          "data": {
            "text/plain": [
              "[('TroilusandCressidatxt', ('shakespeare', 0.0023612750885478157)),\n",
              " ('TroilusandCressidatxt', ('troilus', 0.44391971664698937)),\n",
              " ('TroilusandCressidatxt', ('cressida', 0.3860684769775679)),\n",
              " ('TroilusandCressidatxt', ('online', 0.0011806375442739079)),\n",
              " ('TroilusandCressidatxt', ('library', 0.0011806375442739079)),\n",
              " ('TroilusandCressidatxt', ('of', 0.5974025974025974)),\n",
              " ('TroilusandCressidatxt', ('oll', 0.0011806375442739079)),\n",
              " ('TroilusandCressidatxt', ('libertyfund', 0.0011806375442739079)),\n",
              " ('TroilusandCressidatxt', ('org', 0.0011806375442739079)),\n",
              " ('TroilusandCressidatxt', ('version', 0.0011806375442739079))]"
            ]
          },
          "metadata": {},
          "execution_count": 14
        }
      ]
    },
    {
      "cell_type": "markdown",
      "metadata": {
        "id": "wtL99cssrAN0"
      },
      "source": [
        "Inverse Document Frequency\n",
        "> For each term, divide the total number of documents by the number of documents that contain that term"
      ]
    },
    {
      "cell_type": "code",
      "metadata": {
        "colab": {
          "base_uri": "https://localhost:8080/"
        },
        "id": "IXim34bWktrC",
        "outputId": "8f418a14-063f-497f-dd82-f7783bb9ae61"
      },
      "source": [
        "from math import log \n",
        "N_docs = rdd_hist.map(lambda x: (x[0][0])).distinct().count()\n",
        "\n",
        "idf_rdd = rdd_hist.map(lambda x: (x[0][1], 1)).reduceByKey(lambda x,y: x+y).mapValues(lambda x: log( N_docs / x ))\n",
        "idf_rdd.take(10)"
      ],
      "execution_count": 15,
      "outputs": [
        {
          "output_type": "execute_result",
          "data": {
            "text/plain": [
              "[('shakespeare', 0.0),\n",
              " ('of', 0.0),\n",
              " ('online', 0.0),\n",
              " ('library', 0.0),\n",
              " ('oll', 0.0),\n",
              " ('libertyfund', 0.0),\n",
              " ('org', 0.0),\n",
              " ('version', 0.0),\n",
              " ('mike', 0.0),\n",
              " ('scott', 0.0)]"
            ]
          },
          "metadata": {},
          "execution_count": 15
        }
      ]
    },
    {
      "cell_type": "code",
      "metadata": {
        "colab": {
          "base_uri": "https://localhost:8080/"
        },
        "id": "QunrUfpuBUCy",
        "outputId": "1263a4e9-5af2-4ae3-b550-b3958db4ad6c"
      },
      "source": [
        "tf_idf_rdd = tf_rdd.map(lambda x: (x[1][0], (x[0], x[1][1]) ) ).join(idf_rdd).map(lambda x: (x[0], (x[1][0][0], x[1][0][1] * x[1][1]) ) )\n",
        "tf_idf_rdd.takeOrdered(10)"
      ],
      "execution_count": 16,
      "outputs": [
        {
          "output_type": "execute_result",
          "data": {
            "text/plain": [
              "[('a', ('AMidsummerNightsDreamtxt', 0.0)),\n",
              " ('a', ('AllsWellThatEndsWelltxt', 0.0)),\n",
              " ('a', ('AnthonyandCleopatratxt', 0.0)),\n",
              " ('a', ('AsYouLikeIttxt', 0.0)),\n",
              " ('a', ('Coriolanustxt', 0.0)),\n",
              " ('a', ('Cymbelinetxt', 0.0)),\n",
              " ('a', ('HamletPrinceofDenmarktxt', 0.0)),\n",
              " ('a', ('JuliusCaesartxt', 0.0)),\n",
              " ('a', ('KingLeartxt', 0.0)),\n",
              " ('a', ('LovesLaboursLosttxt', 0.0))]"
            ]
          },
          "metadata": {},
          "execution_count": 16
        }
      ]
    },
    {
      "cell_type": "code",
      "metadata": {
        "colab": {
          "base_uri": "https://localhost:8080/"
        },
        "id": "y88482oy0ML3",
        "outputId": "cab59877-e0ab-494d-b98e-12f4310d601f"
      },
      "source": [
        "tf_idf_rdd = tf_idf_rdd.filter(lambda x: x[1][1] != 0)\n",
        "tf_idf_rdd.takeOrdered(10)"
      ],
      "execution_count": 17,
      "outputs": [
        {
          "output_type": "execute_result",
          "data": {
            "text/plain": [
              "[('aaron', ('TitusAndronicustxt', 0.6729238010165242)),\n",
              " ('abaissez', ('TheLifeofKingHenryVtxt', 0.003334180898101777)),\n",
              " ('abandon', ('AsYouLikeIttxt', 0.00928874624038444)),\n",
              " ('abandon', ('OthellotheMoorofVenicetxt', 0.001864510373559811)),\n",
              " ('abandon', ('TheTamingoftheShrewtxt', 0.0021595431434356825)),\n",
              " ('abandon', ('TheThirdPartofKingHenryVItxt', 0.0017675241651686955)),\n",
              " ('abandon', ('TimonofAthenstxt', 0.003038335335016261)),\n",
              " ('abandon', ('TroilusandCressidatxt', 0.0019657706772006033)),\n",
              " ('abandon', ('TwelfthNightorWhatYouWilltxt', 0.0024776901243882604)),\n",
              " ('abandoned', ('AllsWellThatEndsWelltxt', 0.0038800142713886687))]"
            ]
          },
          "metadata": {},
          "execution_count": 17
        }
      ]
    },
    {
      "cell_type": "code",
      "metadata": {
        "colab": {
          "base_uri": "https://localhost:8080/"
        },
        "id": "T_bpoPcdFcQz",
        "outputId": "7a56c3da-d3a8-4d46-d7af-6715c25038db"
      },
      "source": [
        "tf_idf_rdd.map(lambda x : (x[0], x[1][1])).takeOrdered(10, key=lambda x: -x[1])"
      ],
      "execution_count": 18,
      "outputs": [
        {
          "output_type": "execute_result",
          "data": {
            "text/plain": [
              "[('syr', 2.923468610637809),\n",
              " ('timon', 2.917770732084279),\n",
              " ('antipholus', 2.851105526216081),\n",
              " ('dromio', 2.742560899583489),\n",
              " ('hamlet', 2.598481727067762),\n",
              " ('iago', 2.5555432483663494),\n",
              " ('macbeth', 2.542281395253569),\n",
              " ('othello', 2.442322977869106),\n",
              " ('rosalind', 2.3972063129967234),\n",
              " ('romeo', 2.3753384592952926)]"
            ]
          },
          "metadata": {},
          "execution_count": 18
        }
      ]
    },
    {
      "cell_type": "markdown",
      "metadata": {
        "id": "2m8bMGrpj9f2"
      },
      "source": [
        "## Cosine similarity ⭐"
      ]
    },
    {
      "cell_type": "code",
      "metadata": {
        "id": "LG6Z7eEBte3e",
        "colab": {
          "base_uri": "https://localhost:8080/"
        },
        "outputId": "fe46f16f-32b7-41a0-846b-ce6fc9f008c1"
      },
      "source": [
        "term_key_rdd = rdd_hist.map(lambda x: (x[0][1], (x[0][0], x[1])))\n",
        "term_key_rdd.take(3)"
      ],
      "execution_count": 19,
      "outputs": [
        {
          "output_type": "execute_result",
          "data": {
            "text/plain": [
              "[('shakespeare', ('TimonofAthenstxt', 2)),\n",
              " ('of', ('TimonofAthenstxt', 329)),\n",
              " ('online', ('TimonofAthenstxt', 1))]"
            ]
          },
          "metadata": {},
          "execution_count": 19
        }
      ]
    },
    {
      "cell_type": "code",
      "metadata": {
        "colab": {
          "base_uri": "https://localhost:8080/"
        },
        "id": "_dL8Kco3Ur5t",
        "outputId": "94a21f4e-a267-44df-d609-e4c8d63268d2"
      },
      "source": [
        "inner_join_rdd = term_key_rdd.join(term_key_rdd)\n",
        "inner_join_rdd.take(10)"
      ],
      "execution_count": 20,
      "outputs": [
        {
          "output_type": "execute_result",
          "data": {
            "text/plain": [
              "[('of', (('TimonofAthenstxt', 329), ('TimonofAthenstxt', 329))),\n",
              " ('of', (('TimonofAthenstxt', 329), ('TroilusandCressidatxt', 506))),\n",
              " ('of', (('TimonofAthenstxt', 329), ('TheThirdPartofKingHenryVItxt', 425))),\n",
              " ('of', (('TimonofAthenstxt', 329), ('Coriolanustxt', 478))),\n",
              " ('of', (('TimonofAthenstxt', 329), ('MuchAdoaboutNothingtxt', 364))),\n",
              " ('of', (('TimonofAthenstxt', 329), ('AnthonyandCleopatratxt', 452))),\n",
              " ('of', (('TimonofAthenstxt', 329), ('HamletPrinceofDenmarktxt', 675))),\n",
              " ('of', (('TimonofAthenstxt', 329), ('TheWintersTaletxt', 479))),\n",
              " ('of', (('TimonofAthenstxt', 329), ('TheSecondPartofKingHenryIVtxt', 590))),\n",
              " ('of', (('TimonofAthenstxt', 329), ('TheLifeofKingHenryVtxt', 709)))]"
            ]
          },
          "metadata": {},
          "execution_count": 20
        }
      ]
    },
    {
      "cell_type": "code",
      "metadata": {
        "colab": {
          "base_uri": "https://localhost:8080/"
        },
        "id": "KRPbnms8S6Yd",
        "outputId": "ae0f842d-64f0-4920-f85f-9835de090d48"
      },
      "source": [
        "def make_pairs(x):\n",
        "    return ((x[1][0][0],x[1][1][0]),(x[1][0][1],x[1][1][1]))\n",
        "\n",
        "doc_pairs_rdd = inner_join_rdd.filter(lambda x: x[1][0][0] != x[1][1][0]).map(lambda x: make_pairs(x))\n",
        "doc_pairs_rdd.take(10)"
      ],
      "execution_count": 21,
      "outputs": [
        {
          "output_type": "execute_result",
          "data": {
            "text/plain": [
              "[(('TimonofAthenstxt', 'TroilusandCressidatxt'), (329, 506)),\n",
              " (('TimonofAthenstxt', 'TheThirdPartofKingHenryVItxt'), (329, 425)),\n",
              " (('TimonofAthenstxt', 'Coriolanustxt'), (329, 478)),\n",
              " (('TimonofAthenstxt', 'MuchAdoaboutNothingtxt'), (329, 364)),\n",
              " (('TimonofAthenstxt', 'AnthonyandCleopatratxt'), (329, 452)),\n",
              " (('TimonofAthenstxt', 'HamletPrinceofDenmarktxt'), (329, 675)),\n",
              " (('TimonofAthenstxt', 'TheWintersTaletxt'), (329, 479)),\n",
              " (('TimonofAthenstxt', 'TheSecondPartofKingHenryIVtxt'), (329, 590)),\n",
              " (('TimonofAthenstxt', 'TheLifeofKingHenryVtxt'), (329, 709)),\n",
              " (('TimonofAthenstxt', 'TheFirstPartofKingHenryIVtxt'), (329, 637))]"
            ]
          },
          "metadata": {},
          "execution_count": 21
        }
      ]
    },
    {
      "cell_type": "code",
      "metadata": {
        "colab": {
          "base_uri": "https://localhost:8080/"
        },
        "id": "cSi6bnfBVWaN",
        "outputId": "e1017b70-0338-4a86-a6fe-350ece813b78"
      },
      "source": [
        "cosine_sim_rdd = doc_pairs_rdd.mapValues(lambda x: (x[0]*x[1],x[0]*x[0],x[1]*x[1]))\\\n",
        "                              .reduceByKey(lambda x,y: (x[0]+y[0],x[1]+y[1],x[2]+y[2]))\\\n",
        "                              .mapValues(lambda x: x[0]/((x[1]**(1/2))*(x[2]**(1/2))))\n",
        "cosine_sim_rdd.take(10)"
      ],
      "execution_count": 22,
      "outputs": [
        {
          "output_type": "execute_result",
          "data": {
            "text/plain": [
              "[(('TimonofAthenstxt', 'TroilusandCressidatxt'), 0.9642395356882326),\n",
              " (('TimonofAthenstxt', 'Coriolanustxt'), 0.9417807884523729),\n",
              " (('TimonofAthenstxt', 'MuchAdoaboutNothingtxt'), 0.9304899053779389),\n",
              " (('TimonofAthenstxt', 'AnthonyandCleopatratxt'), 0.9388601626527121),\n",
              " (('TimonofAthenstxt', 'TheWintersTaletxt'), 0.9485509776080362),\n",
              " (('TimonofAthenstxt', 'TheLifeofKingHenryVtxt'), 0.9213672761476629),\n",
              " (('TimonofAthenstxt', 'Macbethtxt'), 0.9424919326507281),\n",
              " (('TimonofAthenstxt', 'AMidsummerNightsDreamtxt'), 0.9445053953493807),\n",
              " (('TimonofAthenstxt', 'TheFamousHistoryoftheLifeofKingHenryVIIItxt'),\n",
              "  0.9403549271911191),\n",
              " (('TimonofAthenstxt', 'TitusAndronicustxt'), 0.9408569570769987)]"
            ]
          },
          "metadata": {},
          "execution_count": 22
        }
      ]
    },
    {
      "cell_type": "markdown",
      "metadata": {
        "id": "6nHUJ0tLN3nH"
      },
      "source": [
        "## Cosine Similarity : TF-IDF edition"
      ]
    },
    {
      "cell_type": "code",
      "metadata": {
        "colab": {
          "base_uri": "https://localhost:8080/"
        },
        "id": "ynAhdhLXN25D",
        "outputId": "b7553133-c224-4dc3-9c26-83003e2abe57"
      },
      "source": [
        "inner_join_tf_idf = tf_idf_rdd.join(tf_idf_rdd).filter(lambda x: (x[1][0][0] != x[1][1][0]))\\\n",
        "                                               .map(lambda x: (x[0], (x[1][0][0], x[1][1][0]), (x[1][0][1], x[1][1][1]) ))\n",
        "inner_join_tf_idf.take(10)"
      ],
      "execution_count": 23,
      "outputs": [
        {
          "output_type": "execute_result",
          "data": {
            "text/plain": [
              "[('troy',\n",
              "  ('TroilusandCressidatxt', 'TitusAndronicustxt'),\n",
              "  (0.09452124466331328, 0.008864964481212087)),\n",
              " ('troy',\n",
              "  ('TroilusandCressidatxt', 'TheMerchantofVenicetxt'),\n",
              "  (0.09452124466331328, 0.0014544635969374745)),\n",
              " ('troy',\n",
              "  ('TroilusandCressidatxt', 'AllsWellThatEndsWelltxt'),\n",
              "  (0.09452124466331328, 0.0016130620210716142)),\n",
              " ('troy',\n",
              "  ('TroilusandCressidatxt', 'TheTragedyofKingRichardIItxt'),\n",
              "  (0.09452124466331328, 0.0015918932281441653)),\n",
              " ('troy',\n",
              "  ('TroilusandCressidatxt', 'TheThirdPartofKingHenryVItxt'),\n",
              "  (0.09452124466331328, 0.0051508392350142415)),\n",
              " ('troy',\n",
              "  ('TroilusandCressidatxt', 'TheSecondPartofKingHenryIVtxt'),\n",
              "  (0.09452124466331328, 0.002416379760649111)),\n",
              " ('troy',\n",
              "  ('TroilusandCressidatxt', 'LovesLaboursLosttxt'),\n",
              "  (0.09452124466331328, 0.0028144376794567373)),\n",
              " ('troy',\n",
              "  ('TroilusandCressidatxt', 'TheSecondPartofKingHenryVItxt'),\n",
              "  (0.09452124466331328, 0.0025010776079295955)),\n",
              " ('troy',\n",
              "  ('TroilusandCressidatxt', 'TheMerryWivesofWindsortxt'),\n",
              "  (0.09452124466331328, 0.0014023383119605248)),\n",
              " ('troy',\n",
              "  ('TroilusandCressidatxt', 'JuliusCaesartxt'),\n",
              "  (0.09452124466331328, 0.0018983139903690986))]"
            ]
          },
          "metadata": {},
          "execution_count": 23
        }
      ]
    },
    {
      "cell_type": "code",
      "metadata": {
        "colab": {
          "base_uri": "https://localhost:8080/"
        },
        "id": "KfyAO0lXP_ZE",
        "outputId": "92b0295c-3663-4cd1-a5ce-a8e19884df0c"
      },
      "source": [
        "# use document pair as key, compute A^2, AxB, B^2 \n",
        "cosine_sim_rdd_tf_idf = inner_join_tf_idf.map(lambda x: (x[1], (x[2][0]*x[2][0], x[2][0]*x[2][1], x[2][1]*x[2][1] )))\\\n",
        "                                  .reduceByKey(lambda x, y : ( x[0]+y[0], x[1]+y[1], x[2]+y[2] ) )\\\n",
        "                                  .map(lambda x: (x[0], x[1][1]/ ((x[1][0]**(1/2))*(x[1][2]**(1/2))) ) )\n",
        "cosine_sim_rdd_tf_idf.take(10)"
      ],
      "execution_count": 24,
      "outputs": [
        {
          "output_type": "execute_result",
          "data": {
            "text/plain": [
              "[(('TroilusandCressidatxt', 'TheThirdPartofKingHenryVItxt'),\n",
              "  0.15072123027813225),\n",
              " (('TheMerchantofVenicetxt', 'TheTragedyofKingRichardIItxt'),\n",
              "  0.4092540736734242),\n",
              " (('AllsWellThatEndsWelltxt', 'TheTragedyofKingRichardIItxt'),\n",
              "  0.5000005582596196),\n",
              " (('TheTragedyofKingRichardIItxt', 'TheMerchantofVenicetxt'),\n",
              "  0.4092540736734242),\n",
              " (('TheTragedyofKingRichardIItxt', 'AllsWellThatEndsWelltxt'),\n",
              "  0.5000005582596196),\n",
              " (('TheThirdPartofKingHenryVItxt', 'TroilusandCressidatxt'),\n",
              "  0.15072123027813225),\n",
              " (('TheThirdPartofKingHenryVItxt', 'TitusAndronicustxt'), 0.5784872132376997),\n",
              " (('TheSecondPartofKingHenryVItxt', 'TitusAndronicustxt'), 0.371524140500845),\n",
              " (('TroilusandCressidatxt', 'HamletPrinceofDenmarktxt'), 0.17691714985369397),\n",
              " (('Macbethtxt', 'HamletPrinceofDenmarktxt'), 0.23199773109018829)]"
            ]
          },
          "metadata": {},
          "execution_count": 24
        }
      ]
    },
    {
      "cell_type": "markdown",
      "metadata": {
        "id": "nXxV8RM7kDFi"
      },
      "source": [
        "## Euclidean Distance ⭐"
      ]
    },
    {
      "cell_type": "code",
      "metadata": {
        "colab": {
          "base_uri": "https://localhost:8080/"
        },
        "id": "QPe4_pVdawGd",
        "outputId": "0929c707-ff7f-40c6-9198-d27613b930a7"
      },
      "source": [
        "outer_join_rdd = term_key_rdd.fullOuterJoin(term_key_rdd)\n",
        "outer_join_rdd.take(3)"
      ],
      "execution_count": 25,
      "outputs": [
        {
          "output_type": "execute_result",
          "data": {
            "text/plain": [
              "[('of', (('TimonofAthenstxt', 329), ('TimonofAthenstxt', 329))),\n",
              " ('of', (('TimonofAthenstxt', 329), ('TroilusandCressidatxt', 506))),\n",
              " ('of', (('TimonofAthenstxt', 329), ('TheThirdPartofKingHenryVItxt', 425)))]"
            ]
          },
          "metadata": {},
          "execution_count": 25
        }
      ]
    },
    {
      "cell_type": "code",
      "metadata": {
        "colab": {
          "base_uri": "https://localhost:8080/"
        },
        "id": "rU2bkwTpa7AX",
        "outputId": "0dd3500a-7726-4f60-fce0-d55403efb03a"
      },
      "source": [
        "def make_pairs_2(x):\n",
        "    y1 = 0 if x[1][0][1] is None else x[1][0][1]\n",
        "    y2 = 0 if x[1][1][1] is None else x[1][1][1]\n",
        "    return ((x[1][0][0],x[1][1][0]),(y1,y2))\n",
        "\n",
        "doc_pairs_rdd = outer_join_rdd.filter(lambda x: x[1][0][0] != x[1][1][0]).map(lambda x: make_pairs_2(x))\n",
        "doc_pairs_rdd.take(3)"
      ],
      "execution_count": 26,
      "outputs": [
        {
          "output_type": "execute_result",
          "data": {
            "text/plain": [
              "[(('TimonofAthenstxt', 'TroilusandCressidatxt'), (329, 506)),\n",
              " (('TimonofAthenstxt', 'TheThirdPartofKingHenryVItxt'), (329, 425)),\n",
              " (('TimonofAthenstxt', 'Coriolanustxt'), (329, 478))]"
            ]
          },
          "metadata": {},
          "execution_count": 26
        }
      ]
    },
    {
      "cell_type": "code",
      "metadata": {
        "colab": {
          "base_uri": "https://localhost:8080/"
        },
        "id": "opaND7uNcEj_",
        "outputId": "4d038afb-a250-486b-da5b-5ed967b27a6e"
      },
      "source": [
        "euclidean_rdd = doc_pairs_rdd.mapValues(lambda x: (x[0]-x[1])**2)\\\n",
        "                             .reduceByKey(lambda x,y: x+y)\\\n",
        "                             .mapValues(lambda x: x**(1/2))\n",
        "euclidean_rdd.take(3)"
      ],
      "execution_count": 27,
      "outputs": [
        {
          "output_type": "execute_result",
          "data": {
            "text/plain": [
              "[(('TimonofAthenstxt', 'TroilusandCressidatxt'), 808.1676806207979),\n",
              " (('TimonofAthenstxt', 'Coriolanustxt'), 1121.13201720404),\n",
              " (('TimonofAthenstxt', 'MuchAdoaboutNothingtxt'), 722.3946289944299)]"
            ]
          },
          "metadata": {},
          "execution_count": 27
        }
      ]
    },
    {
      "cell_type": "markdown",
      "metadata": {
        "id": "-ItU-5CFX2UN"
      },
      "source": [
        "# Check results 📜\n",
        "\n",
        "Let's see the most similar works of Shakespeare with respect to the computed distance measures."
      ]
    },
    {
      "cell_type": "code",
      "metadata": {
        "colab": {
          "base_uri": "https://localhost:8080/"
        },
        "id": "VKIk6zBkbRMJ",
        "outputId": "14e89dfa-58b3-4968-b102-8294b25425b1"
      },
      "source": [
        "check = [('cosine_sim_rdd', cosine_sim_rdd, True),\n",
        "         ('cosine_sim_rdd_tf_idf', cosine_sim_rdd_tf_idf, True),\n",
        "         ('euclidean_rdd', euclidean_rdd, False)]\n",
        "\n",
        "def topN(x, y, reverse, top):\n",
        "    x = [x] if type(x)!=list else x\n",
        "    y = [y] if type(y)!=list else y\n",
        "    return sorted([*x,*y], reverse = reverse, key=lambda x:x[1])[:top]\n",
        "\n",
        "def for_all_top_N(rdd_name, rdd_, reverse, N=3, how_many=3):\n",
        "    best_rdd = rdd_.map(lambda x: (x[0][0],(x[0][1],x[1])))\\\n",
        "                    .reduceByKey(lambda x,y: topN(x,y,reverse,N))\n",
        "\n",
        "    print(rdd_name)\n",
        "    print(*best_rdd.takeOrdered(how_many), sep='\\n')\n",
        "    print()\n",
        "\n",
        "for (rdd_name,rdd,reverse) in check:\n",
        "    for_all_top_N(rdd_name, rdd, reverse)"
      ],
      "execution_count": 28,
      "outputs": [
        {
          "output_type": "stream",
          "name": "stdout",
          "text": [
            "cosine_sim_rdd\n",
            "('AMidsummerNightsDreamtxt', [('JuliusCaesartxt', 0.9744008788306442), ('TroilusandCressidatxt', 0.9737028562342568), ('OthellotheMoorofVenicetxt', 0.9736279566586258)])\n",
            "('AllsWellThatEndsWelltxt', [('TheWintersTaletxt', 0.9743651497801749), ('OthellotheMoorofVenicetxt', 0.9698240078361752), ('Cymbelinetxt', 0.9682217334784473)])\n",
            "('AnthonyandCleopatratxt', [('KingLeartxt', 0.9616958508869111), ('PericlesPrinceofTyretxt', 0.9575634884106645), ('TheTempesttxt', 0.9547437889767936)])\n",
            "\n",
            "cosine_sim_rdd_tf_idf\n",
            "('AMidsummerNightsDreamtxt', [('AllsWellThatEndsWelltxt', 0.9397077331946887), ('TitusAndronicustxt', 0.8732273098941038), ('TimonofAthenstxt', 0.7091735618158125)])\n",
            "('AllsWellThatEndsWelltxt', [('TheWintersTaletxt', 0.9686955204771194), ('AMidsummerNightsDreamtxt', 0.9397077331946887), ('HamletPrinceofDenmarktxt', 0.9015155199710123)])\n",
            "('AnthonyandCleopatratxt', [('KingLeartxt', 0.6614187261314114), ('TheLifeandDeathofKingJohntxt', 0.6393139706968867), ('PericlesPrinceofTyretxt', 0.5963696683341173)])\n",
            "\n",
            "euclidean_rdd\n",
            "('AMidsummerNightsDreamtxt', [('TheTempesttxt', 362.9490322345549), ('TheComedyofErrorstxt', 400.1749617354889), ('PericlesPrinceofTyretxt', 445.04381806738985)])\n",
            "('AllsWellThatEndsWelltxt', [('TheWintersTaletxt', 498.0250997690779), ('TheMerchantofVenicetxt', 559.1055356549423), ('AsYouLikeIttxt', 560.7040217440928)])\n",
            "('AnthonyandCleopatratxt', [('KingLeartxt', 634.9795272290281), ('TroilusandCressidatxt', 671.6196840474526), ('TheWintersTaletxt', 735.4556410824517)])\n",
            "\n"
          ]
        }
      ]
    }
  ]
}